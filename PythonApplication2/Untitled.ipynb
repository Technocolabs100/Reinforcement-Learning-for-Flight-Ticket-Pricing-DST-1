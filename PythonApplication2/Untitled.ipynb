{
 "cells": [
  {
   "cell_type": "code",
   "execution_count": 1,
   "metadata": {
    "scrolled": true
   },
   "outputs": [
    {
     "name": "stdout",
     "output_type": "stream",
     "text": [
      "  Code  Coordinates Lat  Coordinates Lon         Name     Time Zone  \\\n",
      "0  ATQ        31.706741        74.807300     Amritsar  Asia/Kolkata   \n",
      "1  IXB        26.684880        88.324814     Bagdogra  Asia/Kolkata   \n",
      "2  BLR        13.198889        77.705560    Bengaluru  Asia/Kolkata   \n",
      "3  BBI        20.252853        85.817380  Bhubaneswar  Asia/Kolkata   \n",
      "4  IXC        30.674921        76.797386   Chandigarh  Asia/Kolkata   \n",
      "\n",
      "  Name Translations En  \n",
      "0             Amritsar  \n",
      "1             Bagdogra  \n",
      "2            Bengaluru  \n",
      "3          Bhubaneswar  \n",
      "4           Chandigarh  \n"
     ]
    }
   ],
   "source": [
    "import pandas as pd\n",
    "import time\n",
    "from tqdm import tqdm\n",
    "data=[]\n",
    "\n",
    "df = pd.read_csv(\"Indian_data.csv\")\n",
    "print(df.head())"
   ]
  },
  {
   "cell_type": "code",
   "execution_count": 2,
   "metadata": {},
   "outputs": [
    {
     "data": {
      "text/plain": [
       "(30, 6)"
      ]
     },
     "execution_count": 2,
     "metadata": {},
     "output_type": "execute_result"
    }
   ],
   "source": [
    "df.shape"
   ]
  },
  {
   "cell_type": "code",
   "execution_count": null,
   "metadata": {},
   "outputs": [],
   "source": []
  }
 ],
 "metadata": {
  "kernelspec": {
   "display_name": "Python 3",
   "language": "python",
   "name": "python3"
  },
  "language_info": {
   "codemirror_mode": {
    "name": "ipython",
    "version": 3
   },
   "file_extension": ".py",
   "mimetype": "text/x-python",
   "name": "python",
   "nbconvert_exporter": "python",
   "pygments_lexer": "ipython3",
   "version": "3.8.5"
  }
 },
 "nbformat": 4,
 "nbformat_minor": 4
}

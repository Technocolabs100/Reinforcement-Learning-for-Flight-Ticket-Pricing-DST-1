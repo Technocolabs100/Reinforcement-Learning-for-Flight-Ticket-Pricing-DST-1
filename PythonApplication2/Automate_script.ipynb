{
 "cells": [
  {
   "cell_type": "code",
   "execution_count": 1,
   "metadata": {},
   "outputs": [],
   "source": [
    "import pandas as pd\n",
    "import json\n",
    "from selenium import webdriver\n",
    "from selenium.webdriver.support.ui import WebDriverWait \n",
    "from selenium.webdriver.support import expected_conditions\n",
    "from bs4 import BeautifulSoup\n",
    "import re\n",
    "import pandas as pd\n",
    "import numpy as np\n",
    "from datetime import date, timedelta, datetime\n",
    "import time\n",
    "df=pd.read_csv(\"cities.csv\")"
   ]
  },
  {
   "cell_type": "code",
   "execution_count": null,
   "metadata": {},
   "outputs": [],
   "source": [
    "#g9hpdcyswuv4jfrh6yajpzl7027wszb7  --->>> https://app.getresponse.com/api\n",
    "#List token: oSEZT, List ID: 203767902 --->> https://app.getresponse.com/lists/V16Oz"
   ]
  },
  {
   "cell_type": "code",
   "execution_count": 11,
   "metadata": {},
   "outputs": [
    {
     "ename": "TypeError",
     "evalue": "object of type 'NoneType' has no len()",
     "output_type": "error",
     "traceback": [
      "\u001b[1;31m---------------------------------------------------------------------------\u001b[0m",
      "\u001b[1;31mTypeError\u001b[0m                                 Traceback (most recent call last)",
      "\u001b[1;32m<ipython-input-11-266c83d87fc1>\u001b[0m in \u001b[0;36m<module>\u001b[1;34m\u001b[0m\n\u001b[0;32m      2\u001b[0m \u001b[0mdriver\u001b[0m \u001b[1;33m=\u001b[0m \u001b[0mwebdriver\u001b[0m\u001b[1;33m.\u001b[0m\u001b[0mChrome\u001b[0m\u001b[1;33m(\u001b[0m\u001b[1;34m\"C:\\Program Files (x86)\\chromedriver.exe\"\u001b[0m\u001b[1;33m)\u001b[0m\u001b[1;33m\u001b[0m\u001b[1;33m\u001b[0m\u001b[0m\n\u001b[0;32m      3\u001b[0m \u001b[0mdriver\u001b[0m\u001b[1;33m.\u001b[0m\u001b[0mget\u001b[0m\u001b[1;33m(\u001b[0m\u001b[0murl\u001b[0m\u001b[1;33m)\u001b[0m\u001b[1;33m\u001b[0m\u001b[1;33m\u001b[0m\u001b[0m\n\u001b[1;32m----> 4\u001b[1;33m \u001b[0msoup\u001b[0m\u001b[1;33m=\u001b[0m\u001b[0mBeautifulSoup\u001b[0m\u001b[1;33m(\u001b[0m\u001b[0mdriver\u001b[0m\u001b[1;33m.\u001b[0m\u001b[0mpage_source\u001b[0m\u001b[1;33m,\u001b[0m \u001b[1;34m'lxml'\u001b[0m\u001b[1;33m)\u001b[0m\u001b[1;33m\u001b[0m\u001b[1;33m\u001b[0m\u001b[0m\n\u001b[0m\u001b[0;32m      5\u001b[0m \u001b[0msoup\u001b[0m\u001b[1;33m.\u001b[0m\u001b[0mfind\u001b[0m\u001b[1;33m(\u001b[0m\u001b[1;34m'li'\u001b[0m \u001b[1;33m==\u001b[0m \u001b[0mnormalize\u001b[0m\u001b[1;33m-\u001b[0m\u001b[0mspace\u001b[0m\u001b[1;33m(\u001b[0m\u001b[1;33m)\u001b[0m\u001b[1;33m)\u001b[0m  \u001b[1;31m#//li[normalize-space()='Economy / Premium Economy'] //li[normalize-space()='Business']\u001b[0m\u001b[1;33m\u001b[0m\u001b[1;33m\u001b[0m\u001b[0m\n",
      "\u001b[1;32m~\\anaconda3\\lib\\site-packages\\bs4\\__init__.py\u001b[0m in \u001b[0;36m__init__\u001b[1;34m(self, markup, features, builder, parse_only, from_encoding, exclude_encodings, element_classes, **kwargs)\u001b[0m\n\u001b[0;32m    308\u001b[0m         \u001b[1;32mif\u001b[0m \u001b[0mhasattr\u001b[0m\u001b[1;33m(\u001b[0m\u001b[0mmarkup\u001b[0m\u001b[1;33m,\u001b[0m \u001b[1;34m'read'\u001b[0m\u001b[1;33m)\u001b[0m\u001b[1;33m:\u001b[0m        \u001b[1;31m# It's a file-type object.\u001b[0m\u001b[1;33m\u001b[0m\u001b[1;33m\u001b[0m\u001b[0m\n\u001b[0;32m    309\u001b[0m             \u001b[0mmarkup\u001b[0m \u001b[1;33m=\u001b[0m \u001b[0mmarkup\u001b[0m\u001b[1;33m.\u001b[0m\u001b[0mread\u001b[0m\u001b[1;33m(\u001b[0m\u001b[1;33m)\u001b[0m\u001b[1;33m\u001b[0m\u001b[1;33m\u001b[0m\u001b[0m\n\u001b[1;32m--> 310\u001b[1;33m         elif len(markup) <= 256 and (\n\u001b[0m\u001b[0;32m    311\u001b[0m                 \u001b[1;33m(\u001b[0m\u001b[0misinstance\u001b[0m\u001b[1;33m(\u001b[0m\u001b[0mmarkup\u001b[0m\u001b[1;33m,\u001b[0m \u001b[0mbytes\u001b[0m\u001b[1;33m)\u001b[0m \u001b[1;32mand\u001b[0m \u001b[1;32mnot\u001b[0m \u001b[1;34mb'<'\u001b[0m \u001b[1;32min\u001b[0m \u001b[0mmarkup\u001b[0m\u001b[1;33m)\u001b[0m\u001b[1;33m\u001b[0m\u001b[1;33m\u001b[0m\u001b[0m\n\u001b[0;32m    312\u001b[0m                 \u001b[1;32mor\u001b[0m \u001b[1;33m(\u001b[0m\u001b[0misinstance\u001b[0m\u001b[1;33m(\u001b[0m\u001b[0mmarkup\u001b[0m\u001b[1;33m,\u001b[0m \u001b[0mstr\u001b[0m\u001b[1;33m)\u001b[0m \u001b[1;32mand\u001b[0m \u001b[1;32mnot\u001b[0m \u001b[1;34m'<'\u001b[0m \u001b[1;32min\u001b[0m \u001b[0mmarkup\u001b[0m\u001b[1;33m)\u001b[0m\u001b[1;33m\u001b[0m\u001b[1;33m\u001b[0m\u001b[0m\n",
      "\u001b[1;31mTypeError\u001b[0m: object of type 'NoneType' has no len()"
     ]
    }
   ],
   "source": [
    "url = \"https://www.makemytrip.com/flight/search?tripType=O&itinerary=DEL-BLR-01/05/2021&paxType=A-1_C-0_I-0&sTime=1619595203511&forwardFlowRequired=true&mpo=\"                #driver = webdriver.Chrome(\"C:/chromedriver.exe\")\n",
    "driver = webdriver.Chrome(\"C:\\Program Files (x86)\\chromedriver.exe\")\n",
    "driver.get(url)\n",
    "soup=BeautifulSoup(driver.page_source, 'lxml')\n",
    "soup.find('li' == normalize-space())  #//li[normalize-space()='Economy / Premium Economy / Business'] //li[normalize-space()='Business']"
   ]
  },
  {
   "cell_type": "code",
   "execution_count": null,
   "metadata": {},
   "outputs": [],
   "source": [
    "from tqdm import tqdm\n",
    "price=[]\n",
    "cities=[]\n",
    "departure_time=[]\n",
    "arrival_time=[]\n",
    "via=[]\n",
    "airline=[]\n",
    "cabin=[]\n",
    "driver = webdriver.Chrome(\"C:\\Program Files (x86)\\chromedriver.exe\")\n",
    "\n",
    "for z in range(1,31):\n",
    "    for m in range(25,27):\n",
    "        for n in range(30):\n",
    "            if df[\"IMP_codes\"].iloc[m]!=df[\"IMP_codes\"].iloc[n]:\n",
    "                print(\"source=\",m, \"destination=\",n, \"Dates=\",z)\n",
    "                print(df[\"IMP_codes\"].iloc[m],df[\"IMP_codes\"].iloc[n])\n",
    "                k=''\n",
    "                if(z<10):\n",
    "                    k='0'\n",
    "                url=\"https://www.makemytrip.com/flight/search?itinerary=\"+df[\"IMP_codes\"].iloc[m]+\"-\"+df[\"IMP_codes\"].iloc[n]+\"-\"+k+str(z)+\"/05/2021&tripType=O&paxType=A-1_C-0_I-0&intl=false&cabinClass=E&ccde=IN&lang=eng\"\n",
    "                #driver = webdriver.Chrome(\"C:/chromedriver.exe\")\n",
    "                driver.get(url)\n",
    "                soup=BeautifulSoup(driver.page_source, 'lxml')\n",
    "                cabin_info = soup.find_all('ul', attrs={'class': 'paxClass'})\n",
    "                price_info=soup.find_all('p',attrs={'class': 'blackText fontSize18 blackFont'})\n",
    "                flights_info=soup.find_all('p',attrs={'class': 'flightDetailsHead'})\n",
    "                time_info=soup.find_all('p',attrs={'class':\"blackText fontSize18 blackFont appendBottom2 makeFlex hrtlCenter\"})\n",
    "                layover_info=soup.find_all('p',attrs={'class': 'flightsLayoverInfo'})\n",
    "                airline_info=soup.find_all('span',attrs={'class': 'boldFont blackText airlineName'})\n",
    "        #price_info\n",
    "                for i,j in enumerate(price_info):\n",
    "                    if i<30:\n",
    "                       a = str(j)\n",
    "                       price.append(a[43:len(a)-4])\n",
    "                      \n",
    "    #flights_info\n",
    "                for i,j in enumerate(flights_info):\n",
    "                    if i<60:\n",
    "                        k=str(j)\n",
    "                        if len(k)>45:\n",
    "                            cities.append(k[29:(len(k)-4)])\n",
    "\n",
    "    #time_info\n",
    "                for i,j in enumerate(time_info):\n",
    "                    if i<60:\n",
    "                        k=str(j)\n",
    "                        if (i%2==0):\n",
    "                            departure_time.append(k[82:87])\n",
    "                        if (i%2!=0):\n",
    "                            arrival_time.append(k[82:87])\n",
    "\n",
    "    #layover_info\n",
    "                for i,j in enumerate(layover_info):\n",
    "                    if i<30:\n",
    "                        k=str(j)\n",
    "                        via.append(k[30:len(k)-4])\n",
    "\n",
    "    #airline_info\n",
    "                for i,j in enumerate(airline_info):\n",
    "                    if i<30:            \n",
    "                        k=str(j)\n",
    "                        airline.append(k[45:len(k)-7])\n",
    "                print(\"**\"*50)\n",
    "                print(len(departure_time), len(price),len(cities),len(arrival_time),len(via),len(airline))\n"
   ]
  },
  {
   "cell_type": "code",
   "execution_count": null,
   "metadata": {},
   "outputs": [],
   "source": []
  }
 ],
 "metadata": {
  "kernelspec": {
   "display_name": "Python 3",
   "language": "python",
   "name": "python3"
  },
  "language_info": {
   "codemirror_mode": {
    "name": "ipython",
    "version": 3
   },
   "file_extension": ".py",
   "mimetype": "text/x-python",
   "name": "python",
   "nbconvert_exporter": "python",
   "pygments_lexer": "ipython3",
   "version": "3.8.5"
  }
 },
 "nbformat": 4,
 "nbformat_minor": 4
}

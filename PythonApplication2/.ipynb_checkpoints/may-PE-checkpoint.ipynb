{
 "cells": [
  {
   "cell_type": "code",
   "execution_count": 1,
   "metadata": {},
   "outputs": [],
   "source": [
    "import pandas as pd\n",
    "import json\n",
    "from selenium import webdriver\n",
    "from selenium.webdriver.support.ui import WebDriverWait \n",
    "from selenium.webdriver.support import expected_conditions\n",
    "from bs4 import BeautifulSoup\n",
    "import re\n",
    "import pandas as pd\n",
    "import numpy as np\n",
    "from datetime import date, timedelta, datetime\n",
    "import time\n",
    "df=pd.read_csv(\"cities.csv\")"
   ]
  },
  {
   "cell_type": "code",
   "execution_count": 2,
   "metadata": {},
   "outputs": [
    {
     "data": {
      "text/html": [
       "<div>\n",
       "<style scoped>\n",
       "    .dataframe tbody tr th:only-of-type {\n",
       "        vertical-align: middle;\n",
       "    }\n",
       "\n",
       "    .dataframe tbody tr th {\n",
       "        vertical-align: top;\n",
       "    }\n",
       "\n",
       "    .dataframe thead th {\n",
       "        text-align: right;\n",
       "    }\n",
       "</style>\n",
       "<table border=\"1\" class=\"dataframe\">\n",
       "  <thead>\n",
       "    <tr style=\"text-align: right;\">\n",
       "      <th></th>\n",
       "      <th>Code</th>\n",
       "      <th>IMP_codes</th>\n",
       "    </tr>\n",
       "  </thead>\n",
       "  <tbody>\n",
       "    <tr>\n",
       "      <th>0</th>\n",
       "      <td>AGR</td>\n",
       "      <td>DEL</td>\n",
       "    </tr>\n",
       "    <tr>\n",
       "      <th>1</th>\n",
       "      <td>DIB</td>\n",
       "      <td>BOM</td>\n",
       "    </tr>\n",
       "    <tr>\n",
       "      <th>2</th>\n",
       "      <td>HYD</td>\n",
       "      <td>BLR</td>\n",
       "    </tr>\n",
       "    <tr>\n",
       "      <th>3</th>\n",
       "      <td>BHJ</td>\n",
       "      <td>HYD</td>\n",
       "    </tr>\n",
       "    <tr>\n",
       "      <th>4</th>\n",
       "      <td>HBX</td>\n",
       "      <td>MAA</td>\n",
       "    </tr>\n",
       "    <tr>\n",
       "      <th>...</th>\n",
       "      <td>...</td>\n",
       "      <td>...</td>\n",
       "    </tr>\n",
       "    <tr>\n",
       "      <th>79</th>\n",
       "      <td>IXS</td>\n",
       "      <td>NaN</td>\n",
       "    </tr>\n",
       "    <tr>\n",
       "      <th>80</th>\n",
       "      <td>CNN</td>\n",
       "      <td>NaN</td>\n",
       "    </tr>\n",
       "    <tr>\n",
       "      <th>81</th>\n",
       "      <td>GOI</td>\n",
       "      <td>NaN</td>\n",
       "    </tr>\n",
       "    <tr>\n",
       "      <th>82</th>\n",
       "      <td>AMD</td>\n",
       "      <td>NaN</td>\n",
       "    </tr>\n",
       "    <tr>\n",
       "      <th>83</th>\n",
       "      <td>TIR</td>\n",
       "      <td>NaN</td>\n",
       "    </tr>\n",
       "  </tbody>\n",
       "</table>\n",
       "<p>84 rows × 2 columns</p>\n",
       "</div>"
      ],
      "text/plain": [
       "   Code IMP_codes\n",
       "0   AGR       DEL\n",
       "1   DIB       BOM\n",
       "2   HYD       BLR\n",
       "3   BHJ       HYD\n",
       "4   HBX       MAA\n",
       "..  ...       ...\n",
       "79  IXS       NaN\n",
       "80  CNN       NaN\n",
       "81  GOI       NaN\n",
       "82  AMD       NaN\n",
       "83  TIR       NaN\n",
       "\n",
       "[84 rows x 2 columns]"
      ]
     },
     "execution_count": 2,
     "metadata": {},
     "output_type": "execute_result"
    }
   ],
   "source": [
    "df"
   ]
  },
  {
   "cell_type": "code",
   "execution_count": null,
   "metadata": {},
   "outputs": [],
   "source": [
    "df[\"IMP_codes\"].iloc[29]"
   ]
  },
  {
   "cell_type": "code",
   "execution_count": null,
   "metadata": {},
   "outputs": [
    {
     "name": "stdout",
     "output_type": "stream",
     "text": [
      "source= 15 destination= 0 Dates= 1\n",
      "CCJ DEL\n"
     ]
    }
   ],
   "source": [
    "from tqdm import tqdm\n",
    "price=[]\n",
    "cities=[]\n",
    "departure_time=[]\n",
    "arrival_time=[]\n",
    "via=[]\n",
    "airline=[]\n",
    "cabin=[]\n",
    "driver = webdriver.Chrome(\"C:\\Program Files (x86)\\chromedriver.exe\")\n",
    "\n",
    "for z in range(1,17):\n",
    "    for m in range(15,20):\n",
    "        for n in range(30):\n",
    "            if df[\"IMP_codes\"].iloc[m]!=df[\"IMP_codes\"].iloc[n]:\n",
    "                print(\"source=\",m, \"destination=\",n, \"Dates=\",z)\n",
    "                print(df[\"IMP_codes\"].iloc[m],df[\"IMP_codes\"].iloc[n])\n",
    "                k=''\n",
    "                if(z<10):\n",
    "                    k='0'\n",
    "                url=\"https://www.makemytrip.com/flight/search?itinerary=\"+df[\"IMP_codes\"].iloc[m]+\"-\"+df[\"IMP_codes\"].iloc[n]+\"-\"+k+str(z)+\"/05/2021&tripType=O&paxType=A-1_C-0_I-0&intl=false&cabinClass=E&ccde=IN&lang=eng\"\n",
    "                #driver = webdriver.Chrome(\"C:/chromedriver.exe\")\n",
    "                driver.get(url)\n",
    "                soup=BeautifulSoup(driver.page_source, 'lxml')\n",
    "\n",
    "                price_info=soup.find_all('p',attrs={'class': 'blackText fontSize18 blackFont'})\n",
    "                flights_info=soup.find_all('p',attrs={'class': 'flightDetailsHead'})\n",
    "                time_info=soup.find_all('p',attrs={'class':\"blackText fontSize18 blackFont appendBottom2 makeFlex hrtlCenter\"})\n",
    "                layover_info=soup.find_all('p',attrs={'class': 'flightsLayoverInfo'})\n",
    "                airline_info=soup.find_all('span',attrs={'class': 'boldFont blackText airlineName'})\n",
    "\n",
    "#price_info\n",
    "                for i,j in enumerate(price_info):\n",
    "                    if i<30:\n",
    "                       a=str(j)\n",
    "                       price.append(a[43:len(a)-4])\n",
    "                      \n",
    "    #flights_info\n",
    "                for i,j in enumerate(flights_info):\n",
    "                    if i<60:\n",
    "                        k=str(j)\n",
    "                        if len(k)>45:\n",
    "                            cities.append(k[29:(len(k)-4)])\n",
    "\n",
    "    #time_info\n",
    "                for i,j in enumerate(time_info):\n",
    "                    if i<60:\n",
    "                        k=str(j)\n",
    "                        if (i%2==0):\n",
    "                            departure_time.append(k[82:87])\n",
    "                        if (i%2!=0):\n",
    "                            arrival_time.append(k[82:87])\n",
    "\n",
    "    #layover_info\n",
    "                for i,j in enumerate(layover_info):\n",
    "                    if i<30:\n",
    "                        k=str(j)\n",
    "                        via.append(k[30:len(k)-4])\n",
    "\n",
    "    #airline_info\n",
    "                for i,j in enumerate(airline_info):\n",
    "                    if i<30:            \n",
    "                        k=str(j)\n",
    "                        airline.append(k[45:len(k)-7])\n",
    "                print(\"**\"*50)\n",
    "                print(len(departure_time), len(price),len(cities),len(arrival_time),len(via),len(airline))"
   ]
  },
  {
   "cell_type": "code",
   "execution_count": null,
   "metadata": {},
   "outputs": [],
   "source": [
    "data = pd.DataFrame(\n",
    "    {'Price':price,\n",
    "     'Cities':cities,\n",
    "     'departure_time':departure_time,\n",
    "     'arrival_time':arrival_time, \n",
    "     'layeover':via,\n",
    "     'Airline':airline,\n",
    "     'Cabin':cabin\n",
    "    })\n"
   ]
  },
  {
   "cell_type": "code",
   "execution_count": null,
   "metadata": {},
   "outputs": [],
   "source": [
    "data"
   ]
  },
  {
   "cell_type": "code",
   "execution_count": null,
   "metadata": {},
   "outputs": [],
   "source": [
    "print(len(departure_time), len(price),len(cities),len(arrival_time),len(via),len(airline))"
   ]
  },
  {
   "cell_type": "code",
   "execution_count": null,
   "metadata": {},
   "outputs": [],
   "source": [
    "data.to_csv(\"5-10_data-e-may.csv\")"
   ]
  },
  {
   "cell_type": "code",
   "execution_count": null,
   "metadata": {},
   "outputs": [],
   "source": [
    "data_1=pd.read_csv(\"0-5.csv\")\n",
    "data_2=pd.read_csv(\"0-5_data.csv\")"
   ]
  },
  {
   "cell_type": "code",
   "execution_count": null,
   "metadata": {},
   "outputs": [],
   "source": []
  },
  {
   "cell_type": "code",
   "execution_count": null,
   "metadata": {},
   "outputs": [],
   "source": [
    "data_1.shape"
   ]
  },
  {
   "cell_type": "code",
   "execution_count": null,
   "metadata": {},
   "outputs": [],
   "source": [
    "data_2.shape"
   ]
  },
  {
   "cell_type": "code",
   "execution_count": null,
   "metadata": {},
   "outputs": [],
   "source": [
    "data_1=data_1.append(data_2)"
   ]
  },
  {
   "cell_type": "code",
   "execution_count": null,
   "metadata": {},
   "outputs": [],
   "source": [
    "data_1=data_1.drop_duplicates(keep=\"first\")"
   ]
  },
  {
   "cell_type": "code",
   "execution_count": null,
   "metadata": {},
   "outputs": [],
   "source": [
    "data_1.shape"
   ]
  },
  {
   "cell_type": "code",
   "execution_count": null,
   "metadata": {},
   "outputs": [],
   "source": [
    "data_1.to_csv(\"0-5final.csv\")"
   ]
  },
  {
   "cell_type": "code",
   "execution_count": null,
   "metadata": {},
   "outputs": [],
   "source": [
    "print(len(price),len(cities),len(departure_time),len(arrival_time),len(via),len(airline))"
   ]
  },
  {
   "cell_type": "code",
   "execution_count": null,
   "metadata": {},
   "outputs": [],
   "source": [
    "cities"
   ]
  },
  {
   "cell_type": "code",
   "execution_count": null,
   "metadata": {},
   "outputs": [],
   "source": [
    "soup.find_all('p')"
   ]
  },
  {
   "cell_type": "code",
   "execution_count": null,
   "metadata": {},
   "outputs": [],
   "source": [
    "for i in codes[\"Code\"]:\n",
    "    for j in codes[\"Code\"]:\n",
    "        print(i,j)"
   ]
  },
  {
   "cell_type": "code",
   "execution_count": null,
   "metadata": {},
   "outputs": [],
   "source": [
    "url=\"https://www.makemytrip.com/flight/search?itinerary=DEL-BOM-15/04/2021&tripType=O&paxType=A-1_C-0_I-0&intl=false&cabinClass=E&ccde=IN&lang=eng\"\n",
    "driver = webdriver.Chrome(\"C:/chromedriver.exe\")\n",
    "driver.get(url)\n",
    "soup=BeautifulSoup(driver.page_source, 'lxml')\n"
   ]
  },
  {
   "cell_type": "code",
   "execution_count": null,
   "metadata": {},
   "outputs": [],
   "source": [
    "soup.find_all('ul')#,attrs={\"class\":\"guestCounter\"})"
   ]
  },
  {
   "cell_type": "code",
   "execution_count": null,
   "metadata": {},
   "outputs": [],
   "source": []
  },
  {
   "cell_type": "code",
   "execution_count": null,
   "metadata": {},
   "outputs": [],
   "source": [
    "price_info=soup.find_all('p',attrs={'class': 'blackText fontSize18 blackFont'})"
   ]
  },
  {
   "cell_type": "code",
   "execution_count": null,
   "metadata": {},
   "outputs": [],
   "source": [
    "price=[]\n",
    "for j,i in enumerate(price_info):\n",
    "    if j<10:\n",
    "        a=str(i)\n",
    "        price.append(a[43:len(a)-4])\n",
    "len(price)"
   ]
  },
  {
   "cell_type": "code",
   "execution_count": null,
   "metadata": {},
   "outputs": [],
   "source": [
    "s='<p class=\"blackText fontSize18 blackFont\">₹'\n",
    "len(s)"
   ]
  },
  {
   "cell_type": "code",
   "execution_count": null,
   "metadata": {},
   "outputs": [],
   "source": [
    "flights_info=soup.find_all('p',attrs={'class': 'flightDetailsHead'})\n",
    "cities=[]\n",
    "k=0\n",
    "for i,j in enumerate(flights_info):\n",
    "    if i<=10:\n",
    "        k=str(j)\n",
    "        if len(k)>45:\n",
    "            cities.append(k[29:(len(k)-4)])"
   ]
  },
  {
   "cell_type": "code",
   "execution_count": null,
   "metadata": {},
   "outputs": [],
   "source": [
    "cities"
   ]
  },
  {
   "cell_type": "code",
   "execution_count": null,
   "metadata": {},
   "outputs": [],
   "source": [
    "time_info=soup.find_all('p',attrs={'class':\"blackText fontSize18 blackFont appendBottom2 makeFlex hrtlCenter\"})\n",
    "departure_time=[]\n",
    "arrival_time=[]\n",
    "\n",
    "for i,j in enumerate(b):\n",
    "    k=str(j)\n",
    "    if (i%2==0):\n",
    "        departure_time.append(k[82:87])\n",
    "    else:\n",
    "        arrival_time.append(k[82:87])\n",
    "        \n",
    "    "
   ]
  },
  {
   "cell_type": "code",
   "execution_count": null,
   "metadata": {},
   "outputs": [],
   "source": []
  },
  {
   "cell_type": "code",
   "execution_count": null,
   "metadata": {},
   "outputs": [],
   "source": [
    "layover_info=soup.find_all('p',attrs={'class': 'flightsLayoverInfo'})"
   ]
  },
  {
   "cell_type": "code",
   "execution_count": null,
   "metadata": {},
   "outputs": [],
   "source": [
    "via=[]\n",
    "for i in c:\n",
    "    via1=[]\n",
    "    k=str(i)\n",
    "    via1.append(k[30:len(k)-4])\n",
    "    via.append(via1)"
   ]
  },
  {
   "cell_type": "code",
   "execution_count": null,
   "metadata": {},
   "outputs": [],
   "source": [
    "len(via)"
   ]
  },
  {
   "cell_type": "code",
   "execution_count": null,
   "metadata": {},
   "outputs": [],
   "source": [
    "airline_info=soup.find_all('span',attrs={'class': 'boldFont blackText airlineName'})\n",
    "airline=[]\n",
    "for i,j in enumerate(d):\n",
    "    k=str(j)\n",
    "    airline.append(k[45:len(k)-7])\n",
    "\n",
    "len(airline)\n",
    "    \n",
    "    "
   ]
  },
  {
   "cell_type": "code",
   "execution_count": null,
   "metadata": {},
   "outputs": [],
   "source": []
  },
  {
   "cell_type": "code",
   "execution_count": null,
   "metadata": {},
   "outputs": [],
   "source": [
    "s=\"<span class='boldFont blackText airlineName'>\"\n",
    "len(s)"
   ]
  },
  {
   "cell_type": "code",
   "execution_count": null,
   "metadata": {},
   "outputs": [],
   "source": []
  },
  {
   "cell_type": "code",
   "execution_count": null,
   "metadata": {},
   "outputs": [],
   "source": []
  }
 ],
 "metadata": {
  "kernelspec": {
   "display_name": "Python 3",
   "language": "python",
   "name": "python3"
  },
  "language_info": {
   "codemirror_mode": {
    "name": "ipython",
    "version": 3
   },
   "file_extension": ".py",
   "mimetype": "text/x-python",
   "name": "python",
   "nbconvert_exporter": "python",
   "pygments_lexer": "ipython3",
   "version": "3.8.5"
  }
 },
 "nbformat": 4,
 "nbformat_minor": 4
}

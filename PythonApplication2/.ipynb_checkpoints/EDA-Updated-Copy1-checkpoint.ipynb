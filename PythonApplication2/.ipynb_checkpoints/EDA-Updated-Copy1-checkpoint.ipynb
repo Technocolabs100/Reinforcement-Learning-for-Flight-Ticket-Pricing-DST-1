{
 "cells": [
  {
   "cell_type": "markdown",
   "metadata": {},
   "source": [
    "## Importing Libraries"
   ]
  },
  {
   "cell_type": "code",
   "execution_count": 1,
   "metadata": {},
   "outputs": [],
   "source": [
    "import pandas as pd\n",
    "import numpy as np\n",
    "import matplotlib.pyplot as plt\n",
    "import seaborn as sns\n",
    "from scipy import stats\n",
    "from sklearn.model_selection import train_test_split\n",
    "from sklearn.preprocessing import OneHotEncoder\n",
    "from sklearn.preprocessing import StandardScaler\n",
    "from sklearn.compose import ColumnTransformer\n",
    "from sklearn.preprocessing import MinMaxScaler\n",
    "from sklearn.datasets import load_boston\n",
    "from sklearn.model_selection import train_test_split\n",
    "from sklearn.inspection import permutation_importance\n",
    "# example of correlation feature selection for numerical data\n",
    "from sklearn.datasets import make_regression\n",
    "from sklearn.model_selection import train_test_split\n",
    "from sklearn.feature_selection import SelectKBest\n",
    "from sklearn.feature_selection import f_regression\n",
    "from sklearn.feature_selection import mutual_info_regression\n",
    "from sklearn.ensemble import ExtraTreesClassifier\n",
    "from xgboost import XGBRegressor\n",
    "from xgboost import plot_importance\n",
    "from sklearn.metrics import mean_squared_error\n",
    "from sklearn.metrics import r2_score\n",
    "import shap\n",
    "import keras\n",
    "import tensorflow as tf\n",
    "from keras.preprocessing.sequence import TimeseriesGenerator"
   ]
  },
  {
   "cell_type": "markdown",
   "metadata": {},
   "source": [
    "### Converting CSV File into a DataFrame"
   ]
  },
  {
   "cell_type": "code",
   "execution_count": 2,
   "metadata": {},
   "outputs": [
    {
     "data": {
      "text/html": [
       "<div>\n",
       "<style scoped>\n",
       "    .dataframe tbody tr th:only-of-type {\n",
       "        vertical-align: middle;\n",
       "    }\n",
       "\n",
       "    .dataframe tbody tr th {\n",
       "        vertical-align: top;\n",
       "    }\n",
       "\n",
       "    .dataframe thead th {\n",
       "        text-align: right;\n",
       "    }\n",
       "</style>\n",
       "<table border=\"1\" class=\"dataframe\">\n",
       "  <thead>\n",
       "    <tr style=\"text-align: right;\">\n",
       "      <th></th>\n",
       "      <th>Price</th>\n",
       "      <th>Optimal_hr</th>\n",
       "      <th>Airline</th>\n",
       "      <th>Cabin</th>\n",
       "      <th>Dept_city</th>\n",
       "      <th>Dept_date</th>\n",
       "      <th>Dept_month</th>\n",
       "      <th>arrival_city</th>\n",
       "      <th>stops</th>\n",
       "      <th>layover_cities</th>\n",
       "      <th>Departure_Date</th>\n",
       "      <th>Arrival_Date</th>\n",
       "      <th>duration</th>\n",
       "      <th>weekday</th>\n",
       "      <th>day_name</th>\n",
       "      <th>dept_hours</th>\n",
       "      <th>arrival_hours</th>\n",
       "      <th>Dept_flights_time</th>\n",
       "      <th>arrival_flights_time</th>\n",
       "    </tr>\n",
       "  </thead>\n",
       "  <tbody>\n",
       "    <tr>\n",
       "      <th>0</th>\n",
       "      <td>6159</td>\n",
       "      <td>5</td>\n",
       "      <td>Vistara</td>\n",
       "      <td>PE</td>\n",
       "      <td>New Delhi</td>\n",
       "      <td>20</td>\n",
       "      <td>Apr</td>\n",
       "      <td>Mumbai</td>\n",
       "      <td>0</td>\n",
       "      <td>No Stops</td>\n",
       "      <td>20-04-2021 09:30</td>\n",
       "      <td>20-04-2021 11:40</td>\n",
       "      <td>130.0</td>\n",
       "      <td>1</td>\n",
       "      <td>Tuesday</td>\n",
       "      <td>9</td>\n",
       "      <td>11</td>\n",
       "      <td>Morning_flight</td>\n",
       "      <td>Afternoon_flight</td>\n",
       "    </tr>\n",
       "    <tr>\n",
       "      <th>1</th>\n",
       "      <td>6159</td>\n",
       "      <td>11</td>\n",
       "      <td>Vistara</td>\n",
       "      <td>PE</td>\n",
       "      <td>New Delhi</td>\n",
       "      <td>20</td>\n",
       "      <td>Apr</td>\n",
       "      <td>Mumbai</td>\n",
       "      <td>0</td>\n",
       "      <td>No Stops</td>\n",
       "      <td>20-04-2021 15:30</td>\n",
       "      <td>20-04-2021 17:40</td>\n",
       "      <td>130.0</td>\n",
       "      <td>1</td>\n",
       "      <td>Tuesday</td>\n",
       "      <td>15</td>\n",
       "      <td>17</td>\n",
       "      <td>Afternoon_flight</td>\n",
       "      <td>Evening_flight</td>\n",
       "    </tr>\n",
       "    <tr>\n",
       "      <th>2</th>\n",
       "      <td>6159</td>\n",
       "      <td>12</td>\n",
       "      <td>Vistara</td>\n",
       "      <td>PE</td>\n",
       "      <td>New Delhi</td>\n",
       "      <td>20</td>\n",
       "      <td>Apr</td>\n",
       "      <td>Mumbai</td>\n",
       "      <td>0</td>\n",
       "      <td>No Stops</td>\n",
       "      <td>20-04-2021 16:55</td>\n",
       "      <td>20-04-2021 19:05</td>\n",
       "      <td>130.0</td>\n",
       "      <td>1</td>\n",
       "      <td>Tuesday</td>\n",
       "      <td>16</td>\n",
       "      <td>19</td>\n",
       "      <td>Evening_flight</td>\n",
       "      <td>Evening_flight</td>\n",
       "    </tr>\n",
       "    <tr>\n",
       "      <th>3</th>\n",
       "      <td>6159</td>\n",
       "      <td>8</td>\n",
       "      <td>Vistara</td>\n",
       "      <td>PE</td>\n",
       "      <td>New Delhi</td>\n",
       "      <td>20</td>\n",
       "      <td>Apr</td>\n",
       "      <td>Mumbai</td>\n",
       "      <td>0</td>\n",
       "      <td>No Stops</td>\n",
       "      <td>20-04-2021 12:45</td>\n",
       "      <td>20-04-2021 15:00</td>\n",
       "      <td>135.0</td>\n",
       "      <td>1</td>\n",
       "      <td>Tuesday</td>\n",
       "      <td>12</td>\n",
       "      <td>15</td>\n",
       "      <td>Afternoon_flight</td>\n",
       "      <td>Afternoon_flight</td>\n",
       "    </tr>\n",
       "    <tr>\n",
       "      <th>4</th>\n",
       "      <td>6159</td>\n",
       "      <td>13</td>\n",
       "      <td>Vistara</td>\n",
       "      <td>PE</td>\n",
       "      <td>New Delhi</td>\n",
       "      <td>20</td>\n",
       "      <td>Apr</td>\n",
       "      <td>Mumbai</td>\n",
       "      <td>0</td>\n",
       "      <td>No Stops</td>\n",
       "      <td>20-04-2021 17:45</td>\n",
       "      <td>20-04-2021 20:05</td>\n",
       "      <td>140.0</td>\n",
       "      <td>1</td>\n",
       "      <td>Tuesday</td>\n",
       "      <td>17</td>\n",
       "      <td>20</td>\n",
       "      <td>Evening_flight</td>\n",
       "      <td>Evening_flight</td>\n",
       "    </tr>\n",
       "  </tbody>\n",
       "</table>\n",
       "</div>"
      ],
      "text/plain": [
       "   Price  Optimal_hr  Airline Cabin  Dept_city  Dept_date Dept_month  \\\n",
       "0   6159           5  Vistara    PE  New Delhi         20        Apr   \n",
       "1   6159          11  Vistara    PE  New Delhi         20        Apr   \n",
       "2   6159          12  Vistara    PE  New Delhi         20        Apr   \n",
       "3   6159           8  Vistara    PE  New Delhi         20        Apr   \n",
       "4   6159          13  Vistara    PE  New Delhi         20        Apr   \n",
       "\n",
       "  arrival_city  stops layover_cities    Departure_Date      Arrival_Date  \\\n",
       "0      Mumbai       0       No Stops  20-04-2021 09:30  20-04-2021 11:40   \n",
       "1      Mumbai       0       No Stops  20-04-2021 15:30  20-04-2021 17:40   \n",
       "2      Mumbai       0       No Stops  20-04-2021 16:55  20-04-2021 19:05   \n",
       "3      Mumbai       0       No Stops  20-04-2021 12:45  20-04-2021 15:00   \n",
       "4      Mumbai       0       No Stops  20-04-2021 17:45  20-04-2021 20:05   \n",
       "\n",
       "   duration  weekday day_name  dept_hours  arrival_hours Dept_flights_time  \\\n",
       "0     130.0        1  Tuesday           9             11    Morning_flight   \n",
       "1     130.0        1  Tuesday          15             17  Afternoon_flight   \n",
       "2     130.0        1  Tuesday          16             19    Evening_flight   \n",
       "3     135.0        1  Tuesday          12             15  Afternoon_flight   \n",
       "4     140.0        1  Tuesday          17             20    Evening_flight   \n",
       "\n",
       "  arrival_flights_time  \n",
       "0     Afternoon_flight  \n",
       "1       Evening_flight  \n",
       "2       Evening_flight  \n",
       "3     Afternoon_flight  \n",
       "4       Evening_flight  "
      ]
     },
     "execution_count": 2,
     "metadata": {},
     "output_type": "execute_result"
    }
   ],
   "source": [
    "df = pd.read_csv(\"final_dataset.csv\")\n",
    "df.head()"
   ]
  },
  {
   "cell_type": "code",
   "execution_count": 3,
   "metadata": {},
   "outputs": [
    {
     "data": {
      "text/plain": [
       "(315985, 19)"
      ]
     },
     "execution_count": 3,
     "metadata": {},
     "output_type": "execute_result"
    }
   ],
   "source": [
    "df.shape"
   ]
  },
  {
   "cell_type": "markdown",
   "metadata": {},
   "source": [
    "#### Calculating No.of Airlines Used/Switched because as per the Data Airline column contains \",\" separator and after that adding a column to our DataFrame."
   ]
  },
  {
   "cell_type": "code",
   "execution_count": 4,
   "metadata": {},
   "outputs": [
    {
     "name": "stdout",
     "output_type": "stream",
     "text": [
      "315985\n"
     ]
    }
   ],
   "source": [
    "no_of_airlines = [] \n",
    "for i in range(df.shape[0]):\n",
    "    if \",\" in df[\"Airline\"].iloc[i]:\n",
    "        no_of_airlines.append(2)\n",
    "        \n",
    "    else:\n",
    "        no_of_airlines.append(1)\n",
    "print(len(no_of_airlines))"
   ]
  },
  {
   "cell_type": "code",
   "execution_count": 5,
   "metadata": {},
   "outputs": [
    {
     "name": "stdout",
     "output_type": "stream",
     "text": [
      "   Price  Optimal_hr  Airline Cabin  Dept_city  Dept_date Dept_month  \\\n",
      "0   6159           5  Vistara    PE  New Delhi         20        Apr   \n",
      "1   6159          11  Vistara    PE  New Delhi         20        Apr   \n",
      "2   6159          12  Vistara    PE  New Delhi         20        Apr   \n",
      "3   6159           8  Vistara    PE  New Delhi         20        Apr   \n",
      "4   6159          13  Vistara    PE  New Delhi         20        Apr   \n",
      "\n",
      "  arrival_city  stops layover_cities    Departure_Date      Arrival_Date  \\\n",
      "0      Mumbai       0       No Stops  20-04-2021 09:30  20-04-2021 11:40   \n",
      "1      Mumbai       0       No Stops  20-04-2021 15:30  20-04-2021 17:40   \n",
      "2      Mumbai       0       No Stops  20-04-2021 16:55  20-04-2021 19:05   \n",
      "3      Mumbai       0       No Stops  20-04-2021 12:45  20-04-2021 15:00   \n",
      "4      Mumbai       0       No Stops  20-04-2021 17:45  20-04-2021 20:05   \n",
      "\n",
      "   duration  weekday day_name  dept_hours  arrival_hours Dept_flights_time  \\\n",
      "0     130.0        1  Tuesday           9             11    Morning_flight   \n",
      "1     130.0        1  Tuesday          15             17  Afternoon_flight   \n",
      "2     130.0        1  Tuesday          16             19    Evening_flight   \n",
      "3     135.0        1  Tuesday          12             15  Afternoon_flight   \n",
      "4     140.0        1  Tuesday          17             20    Evening_flight   \n",
      "\n",
      "  arrival_flights_time  No_of_Airlines_used  \n",
      "0     Afternoon_flight                    1  \n",
      "1       Evening_flight                    1  \n",
      "2       Evening_flight                    1  \n",
      "3     Afternoon_flight                    1  \n",
      "4       Evening_flight                    1  \n"
     ]
    }
   ],
   "source": [
    "df[\"No_of_Airlines_used\"] = no_of_airlines\n",
    "print(df.head())"
   ]
  },
  {
   "cell_type": "code",
   "execution_count": 6,
   "metadata": {},
   "outputs": [
    {
     "data": {
      "text/plain": [
       "count    315985.000000\n",
       "mean          1.088039\n",
       "std           0.283352\n",
       "min           1.000000\n",
       "25%           1.000000\n",
       "50%           1.000000\n",
       "75%           1.000000\n",
       "max           2.000000\n",
       "Name: No_of_Airlines_used, dtype: float64"
      ]
     },
     "execution_count": 6,
     "metadata": {},
     "output_type": "execute_result"
    }
   ],
   "source": [
    "df[\"No_of_Airlines_used\"].describe()"
   ]
  },
  {
   "cell_type": "markdown",
   "metadata": {},
   "source": [
    "##### If Airline column contains\",\" as separator then splitting that Airline column otherwise marking a row as \"No connecting Flights\". Added new column to DataFrame \"No connecting Airline\"."
   ]
  },
  {
   "cell_type": "code",
   "execution_count": 7,
   "metadata": {},
   "outputs": [],
   "source": [
    "Airline=[]\n",
    "connecting_flight_Airline=[]\n",
    "for i in df[\"Airline\"]:\n",
    "    if \",\" in i:\n",
    "        connecting_flight_Airline.append(i.split(\",\")[1])\n",
    "        Airline.append(i.split(\",\")[0])\n",
    "    else:\n",
    "        Airline.append(i)\n",
    "        connecting_flight_Airline.append(\"No connecting airline\")\n",
    "\n",
    "df[\"Airline\"]=Airline\n",
    "df[\"connecting_flight_Airline\"]=connecting_flight_Airline"
   ]
  },
  {
   "cell_type": "code",
   "execution_count": 8,
   "metadata": {},
   "outputs": [
    {
     "data": {
      "text/plain": [
       "Price                        0\n",
       "Optimal_hr                   0\n",
       "Airline                      0\n",
       "Cabin                        0\n",
       "Dept_city                    0\n",
       "Dept_date                    0\n",
       "Dept_month                   0\n",
       "arrival_city                 0\n",
       "stops                        0\n",
       "layover_cities               0\n",
       "Departure_Date               0\n",
       "Arrival_Date                 0\n",
       "duration                     0\n",
       "weekday                      0\n",
       "day_name                     0\n",
       "dept_hours                   0\n",
       "arrival_hours                0\n",
       "Dept_flights_time            0\n",
       "arrival_flights_time         0\n",
       "No_of_Airlines_used          0\n",
       "connecting_flight_Airline    0\n",
       "dtype: int64"
      ]
     },
     "execution_count": 8,
     "metadata": {},
     "output_type": "execute_result"
    }
   ],
   "source": [
    "df.isnull().sum()"
   ]
  },
  {
   "cell_type": "code",
   "execution_count": 9,
   "metadata": {},
   "outputs": [
    {
     "data": {
      "text/plain": [
       "Index(['Price', 'Optimal_hr', 'Airline', 'Cabin', 'Dept_city', 'Dept_date',\n",
       "       'Dept_month', 'arrival_city', 'stops', 'layover_cities',\n",
       "       'Departure_Date', 'Arrival_Date', 'duration', 'weekday', 'day_name',\n",
       "       'dept_hours', 'arrival_hours', 'Dept_flights_time',\n",
       "       'arrival_flights_time', 'No_of_Airlines_used',\n",
       "       'connecting_flight_Airline'],\n",
       "      dtype='object')"
      ]
     },
     "execution_count": 9,
     "metadata": {},
     "output_type": "execute_result"
    }
   ],
   "source": [
    "df.columns"
   ]
  },
  {
   "cell_type": "code",
   "execution_count": 10,
   "metadata": {},
   "outputs": [
    {
     "name": "stdout",
     "output_type": "stream",
     "text": [
      "<class 'pandas.core.frame.DataFrame'>\n",
      "RangeIndex: 315985 entries, 0 to 315984\n",
      "Data columns (total 21 columns):\n",
      " #   Column                     Non-Null Count   Dtype  \n",
      "---  ------                     --------------   -----  \n",
      " 0   Price                      315985 non-null  int64  \n",
      " 1   Optimal_hr                 315985 non-null  int64  \n",
      " 2   Airline                    315985 non-null  object \n",
      " 3   Cabin                      315985 non-null  object \n",
      " 4   Dept_city                  315985 non-null  object \n",
      " 5   Dept_date                  315985 non-null  int64  \n",
      " 6   Dept_month                 315985 non-null  object \n",
      " 7   arrival_city               315985 non-null  object \n",
      " 8   stops                      315985 non-null  int64  \n",
      " 9   layover_cities             315985 non-null  object \n",
      " 10  Departure_Date             315985 non-null  object \n",
      " 11  Arrival_Date               315985 non-null  object \n",
      " 12  duration                   315985 non-null  float64\n",
      " 13  weekday                    315985 non-null  int64  \n",
      " 14  day_name                   315985 non-null  object \n",
      " 15  dept_hours                 315985 non-null  int64  \n",
      " 16  arrival_hours              315985 non-null  int64  \n",
      " 17  Dept_flights_time          315985 non-null  object \n",
      " 18  arrival_flights_time       315985 non-null  object \n",
      " 19  No_of_Airlines_used        315985 non-null  int64  \n",
      " 20  connecting_flight_Airline  315985 non-null  object \n",
      "dtypes: float64(1), int64(8), object(12)\n",
      "memory usage: 50.6+ MB\n"
     ]
    }
   ],
   "source": [
    "df.info()"
   ]
  },
  {
   "cell_type": "markdown",
   "metadata": {},
   "source": [
    "#### Dropping Out unnecessary columns from the DataFrame."
   ]
  },
  {
   "cell_type": "code",
   "execution_count": 11,
   "metadata": {},
   "outputs": [],
   "source": [
    "df.drop(columns=[\"Dept_city\",\"arrival_city\",\"layover_cities\",\"Departure_Date\",\"Arrival_Date\",\"day_name\",\"arrival_hours\",\"arrival_flights_time\"],inplace=True,axis=1)"
   ]
  },
  {
   "cell_type": "markdown",
   "metadata": {},
   "source": [
    "#### Calculating Biserial Correlation Coefficient wrt Price Column"
   ]
  },
  {
   "cell_type": "code",
   "execution_count": 12,
   "metadata": {},
   "outputs": [
    {
     "name": "stdout",
     "output_type": "stream",
     "text": [
      "Keys: Price Correlation Coefficient: 1.0\n",
      "Keys: Optimal_hr Correlation Coefficient: 0.08628230746692485\n",
      "Keys: Dept_date Correlation Coefficient: -0.05808091302141167\n",
      "Keys: stops Correlation Coefficient: 0.47495671897779745\n",
      "Keys: weekday Correlation Coefficient: 0.01812522078971293\n",
      "Keys: dept_hours Correlation Coefficient: 0.09250031969200241\n",
      "Keys: No_of_Airlines_used Correlation Coefficient: -0.013970558298925977\n"
     ]
    }
   ],
   "source": [
    "for i in df.columns:\n",
    "    if df[i].dtype == \"int64\":\n",
    "        key = i\n",
    "        value = df[i].corr(df['Price'])\n",
    "        print(f\"Keys: {i} Correlation Coefficient: {value}\")\n",
    "    "
   ]
  },
  {
   "cell_type": "code",
   "execution_count": 13,
   "metadata": {},
   "outputs": [
    {
     "name": "stdout",
     "output_type": "stream",
     "text": [
      "                        Price  Optimal_hr  Dept_date     stops  duration  \\\n",
      "Price                1.000000    0.086282  -0.058081  0.474957  0.414052   \n",
      "Optimal_hr           0.086282    1.000000  -0.021046  0.020322  0.206079   \n",
      "Dept_date           -0.058081   -0.021046   1.000000  0.035386  0.042227   \n",
      "stops                0.474957    0.020322   0.035386  1.000000  0.572703   \n",
      "duration             0.414052    0.206079   0.042227  0.572703  1.000000   \n",
      "weekday              0.018125   -0.007519  -0.037174 -0.001342 -0.000330   \n",
      "dept_hours           0.092500    0.849565  -0.001811  0.023995  0.213829   \n",
      "No_of_Airlines_used -0.013971   -0.120842   0.055247  0.244236  0.085970   \n",
      "\n",
      "                      weekday  dept_hours  No_of_Airlines_used  \n",
      "Price                0.018125    0.092500            -0.013971  \n",
      "Optimal_hr          -0.007519    0.849565            -0.120842  \n",
      "Dept_date           -0.037174   -0.001811             0.055247  \n",
      "stops               -0.001342    0.023995             0.244236  \n",
      "duration            -0.000330    0.213829             0.085970  \n",
      "weekday              1.000000   -0.003850             0.014078  \n",
      "dept_hours          -0.003850    1.000000            -0.119145  \n",
      "No_of_Airlines_used  0.014078   -0.119145             1.000000  \n"
     ]
    }
   ],
   "source": [
    "#Point Biserial Correlation\n",
    "print(df.corr())"
   ]
  },
  {
   "cell_type": "code",
   "execution_count": 14,
   "metadata": {},
   "outputs": [
    {
     "name": "stdout",
     "output_type": "stream",
     "text": [
      "The Data set has 315985 rows and 13 columns\n",
      "\n"
     ]
    }
   ],
   "source": [
    "print(\"The Data set has {} rows and {} columns\\n\".format(df.shape[0],df.shape[1]))\n"
   ]
  },
  {
   "cell_type": "code",
   "execution_count": 15,
   "metadata": {},
   "outputs": [
    {
     "data": {
      "text/plain": [
       "Price                        0\n",
       "Optimal_hr                   0\n",
       "Airline                      0\n",
       "Cabin                        0\n",
       "Dept_date                    0\n",
       "Dept_month                   0\n",
       "stops                        0\n",
       "duration                     0\n",
       "weekday                      0\n",
       "dept_hours                   0\n",
       "Dept_flights_time            0\n",
       "No_of_Airlines_used          0\n",
       "connecting_flight_Airline    0\n",
       "dtype: int64"
      ]
     },
     "execution_count": 15,
     "metadata": {},
     "output_type": "execute_result"
    }
   ],
   "source": [
    "#To check NULL values\n",
    "df.isnull().sum()"
   ]
  },
  {
   "cell_type": "code",
   "execution_count": 16,
   "metadata": {},
   "outputs": [
    {
     "data": {
      "text/plain": [
       "IndiGo               132232\n",
       "Air India             79346\n",
       "Vistara               51553\n",
       "Go Air                23114\n",
       "Spicejet              18162\n",
       "AirAsia               11455\n",
       "flybig                   68\n",
       "TruJet                   52\n",
       "Air India Express         3\n",
       "Name: Airline, dtype: int64"
      ]
     },
     "execution_count": 16,
     "metadata": {},
     "output_type": "execute_result"
    }
   ],
   "source": [
    "df[\"Airline\"].value_counts()"
   ]
  },
  {
   "cell_type": "markdown",
   "metadata": {},
   "source": [
    "#### Making a list for the Row Index values that contains the Unnecessary Airline and dropping those indexes out from the DataFrame."
   ]
  },
  {
   "cell_type": "code",
   "execution_count": 17,
   "metadata": {},
   "outputs": [
    {
     "data": {
      "text/plain": [
       "[90426,\n",
       " 90427,\n",
       " 90428,\n",
       " 90435,\n",
       " 90501,\n",
       " 90562,\n",
       " 91558,\n",
       " 91559,\n",
       " 91560,\n",
       " 91561,\n",
       " 91563,\n",
       " 91640,\n",
       " 91706,\n",
       " 93849,\n",
       " 93851,\n",
       " 93853,\n",
       " 93854,\n",
       " 93857,\n",
       " 93920,\n",
       " 96099,\n",
       " 96101,\n",
       " 96102,\n",
       " 96105,\n",
       " 96174,\n",
       " 97221,\n",
       " 97222,\n",
       " 97227,\n",
       " 97287,\n",
       " 98287,\n",
       " 98288,\n",
       " 98291,\n",
       " 98357,\n",
       " 98359,\n",
       " 98360,\n",
       " 98430,\n",
       " 99410,\n",
       " 99411,\n",
       " 99490,\n",
       " 99491,\n",
       " 99493,\n",
       " 99562,\n",
       " 101650,\n",
       " 101652,\n",
       " 101655,\n",
       " 101656,\n",
       " 103732,\n",
       " 103734,\n",
       " 103735,\n",
       " 103738,\n",
       " 103806,\n",
       " 104810,\n",
       " 104811,\n",
       " 104814,\n",
       " 104882,\n",
       " 105899,\n",
       " 105900,\n",
       " 105968,\n",
       " 141533,\n",
       " 142909,\n",
       " 145683,\n",
       " 148324,\n",
       " 149782,\n",
       " 151201,\n",
       " 152568,\n",
       " 155283,\n",
       " 157956,\n",
       " 159295,\n",
       " 160823,\n",
       " 16695,\n",
       " 16915,\n",
       " 17476,\n",
       " 17820,\n",
       " 18362,\n",
       " 19742,\n",
       " 20597,\n",
       " 21132,\n",
       " 22263,\n",
       " 22549,\n",
       " 23965,\n",
       " 25087,\n",
       " 25371,\n",
       " 26041,\n",
       " 27439,\n",
       " 28790,\n",
       " 29896,\n",
       " 30164,\n",
       " 166238,\n",
       " 166508,\n",
       " 167596,\n",
       " 167859,\n",
       " 167866,\n",
       " 168952,\n",
       " 169219,\n",
       " 169226,\n",
       " 170587,\n",
       " 171955,\n",
       " 173325,\n",
       " 174432,\n",
       " 174699,\n",
       " 174706,\n",
       " 175806,\n",
       " 176069,\n",
       " 176076,\n",
       " 177164,\n",
       " 177427,\n",
       " 177434,\n",
       " 178563,\n",
       " 178840,\n",
       " 178847,\n",
       " 180260,\n",
       " 181668,\n",
       " 183068,\n",
       " 184215,\n",
       " 184493,\n",
       " 184500,\n",
       " 185643,\n",
       " 185923,\n",
       " 187051,\n",
       " 187324,\n",
       " 187331,\n",
       " 151338,\n",
       " 154005,\n",
       " 160970]"
      ]
     },
     "execution_count": 17,
     "metadata": {},
     "output_type": "execute_result"
    }
   ],
   "source": [
    "l1 = []\n",
    "l1.append(df[df[\"Airline\"] == \"flybig\"].index)\n",
    "l1.append(df[df[\"Airline\"] == \"TruJet\"].index)\n",
    "l1.append(df[df[\"Airline\"] == \"Air India Express\"].index)\n",
    "#print(l1)\n",
    "l2 = []\n",
    "for i in l1:\n",
    "    for j in i:\n",
    "        l2.append(j)\n",
    "l2"
   ]
  },
  {
   "cell_type": "code",
   "execution_count": 18,
   "metadata": {},
   "outputs": [],
   "source": [
    "df.drop(l2, inplace=True)"
   ]
  },
  {
   "cell_type": "code",
   "execution_count": 19,
   "metadata": {},
   "outputs": [
    {
     "data": {
      "text/plain": [
       "IndiGo       132232\n",
       "Air India     79346\n",
       "Vistara       51553\n",
       "Go Air        23114\n",
       "Spicejet      18162\n",
       "AirAsia       11455\n",
       "Name: Airline, dtype: int64"
      ]
     },
     "execution_count": 19,
     "metadata": {},
     "output_type": "execute_result"
    }
   ],
   "source": [
    "df[\"Airline\"].value_counts()"
   ]
  },
  {
   "cell_type": "code",
   "execution_count": 20,
   "metadata": {},
   "outputs": [
    {
     "data": {
      "text/plain": [
       "count    315862.000000\n",
       "mean          1.087924\n",
       "std           0.283185\n",
       "min           1.000000\n",
       "25%           1.000000\n",
       "50%           1.000000\n",
       "75%           1.000000\n",
       "max           2.000000\n",
       "Name: No_of_Airlines_used, dtype: float64"
      ]
     },
     "execution_count": 20,
     "metadata": {},
     "output_type": "execute_result"
    }
   ],
   "source": [
    "df[\"No_of_Airlines_used\"].describe()"
   ]
  },
  {
   "cell_type": "markdown",
   "metadata": {},
   "source": [
    "#### Using OneHotEncoding to transform the data of certain columns."
   ]
  },
  {
   "cell_type": "code",
   "execution_count": 21,
   "metadata": {},
   "outputs": [
    {
     "name": "stdout",
     "output_type": "stream",
     "text": [
      "(315862, 6)\n"
     ]
    }
   ],
   "source": [
    "le1 = OneHotEncoder()\n",
    "airline_arr = le1.fit_transform(df[[\"Airline\"]]).toarray()\n",
    "print(airline_arr.shape)\n"
   ]
  },
  {
   "cell_type": "code",
   "execution_count": 22,
   "metadata": {},
   "outputs": [
    {
     "data": {
      "text/plain": [
       "IndiGo       132232\n",
       "Air India     79346\n",
       "Vistara       51553\n",
       "Go Air        23114\n",
       "Spicejet      18162\n",
       "AirAsia       11455\n",
       "Name: Airline, dtype: int64"
      ]
     },
     "execution_count": 22,
     "metadata": {},
     "output_type": "execute_result"
    }
   ],
   "source": [
    "df[\"Airline\"].value_counts()"
   ]
  },
  {
   "cell_type": "code",
   "execution_count": 23,
   "metadata": {},
   "outputs": [],
   "source": [
    "airl_indigo = airline_arr[:, 0]\n",
    "airl_air_india = airline_arr[:, 1]\n",
    "airl_air_vistara = airline_arr[:, 2]\n",
    "airl_go_air = airline_arr[:, 3]\n",
    "airl_spicejet = airline_arr[:, 4]\n",
    "airl_airasia = airline_arr[:, 5]"
   ]
  },
  {
   "cell_type": "code",
   "execution_count": 24,
   "metadata": {},
   "outputs": [
    {
     "name": "stdout",
     "output_type": "stream",
     "text": [
      "0.0\n",
      "0.0\n",
      "0.0\n",
      "0.0\n",
      "0.0\n",
      "1.0\n"
     ]
    }
   ],
   "source": [
    "print(airl_indigo[0])\n",
    "print(airl_air_india[0])\n",
    "print(airl_air_vistara[0])\n",
    "print(airl_go_air[0])\n",
    "print(airl_spicejet[0])\n",
    "print(airl_airasia[0])"
   ]
  },
  {
   "cell_type": "code",
   "execution_count": 25,
   "metadata": {},
   "outputs": [],
   "source": [
    "data = pd.DataFrame(airl_indigo,columns=[\"Airline Indigo\"])\n",
    "data[\"Airline Air India\"] = airl_air_india\n",
    "data[\"Airline Air Vistara\"] = airl_air_vistara\n",
    "data[\"Airline Go Air\"] = airl_go_air\n",
    "data[\"Airline Spicejet\"] = airl_spicejet\n",
    "data[\"Airline AirAsia\"] = airl_airasia\n"
   ]
  },
  {
   "cell_type": "code",
   "execution_count": 26,
   "metadata": {},
   "outputs": [
    {
     "data": {
      "text/html": [
       "<div>\n",
       "<style scoped>\n",
       "    .dataframe tbody tr th:only-of-type {\n",
       "        vertical-align: middle;\n",
       "    }\n",
       "\n",
       "    .dataframe tbody tr th {\n",
       "        vertical-align: top;\n",
       "    }\n",
       "\n",
       "    .dataframe thead th {\n",
       "        text-align: right;\n",
       "    }\n",
       "</style>\n",
       "<table border=\"1\" class=\"dataframe\">\n",
       "  <thead>\n",
       "    <tr style=\"text-align: right;\">\n",
       "      <th></th>\n",
       "      <th>Airline Indigo</th>\n",
       "      <th>Airline Air India</th>\n",
       "      <th>Airline Air Vistara</th>\n",
       "      <th>Airline Go Air</th>\n",
       "      <th>Airline Spicejet</th>\n",
       "      <th>Airline AirAsia</th>\n",
       "    </tr>\n",
       "  </thead>\n",
       "  <tbody>\n",
       "    <tr>\n",
       "      <th>0</th>\n",
       "      <td>0.0</td>\n",
       "      <td>0.0</td>\n",
       "      <td>0.0</td>\n",
       "      <td>0.0</td>\n",
       "      <td>0.0</td>\n",
       "      <td>1.0</td>\n",
       "    </tr>\n",
       "    <tr>\n",
       "      <th>1</th>\n",
       "      <td>0.0</td>\n",
       "      <td>0.0</td>\n",
       "      <td>0.0</td>\n",
       "      <td>0.0</td>\n",
       "      <td>0.0</td>\n",
       "      <td>1.0</td>\n",
       "    </tr>\n",
       "    <tr>\n",
       "      <th>2</th>\n",
       "      <td>0.0</td>\n",
       "      <td>0.0</td>\n",
       "      <td>0.0</td>\n",
       "      <td>0.0</td>\n",
       "      <td>0.0</td>\n",
       "      <td>1.0</td>\n",
       "    </tr>\n",
       "    <tr>\n",
       "      <th>3</th>\n",
       "      <td>0.0</td>\n",
       "      <td>0.0</td>\n",
       "      <td>0.0</td>\n",
       "      <td>0.0</td>\n",
       "      <td>0.0</td>\n",
       "      <td>1.0</td>\n",
       "    </tr>\n",
       "    <tr>\n",
       "      <th>4</th>\n",
       "      <td>0.0</td>\n",
       "      <td>0.0</td>\n",
       "      <td>0.0</td>\n",
       "      <td>0.0</td>\n",
       "      <td>0.0</td>\n",
       "      <td>1.0</td>\n",
       "    </tr>\n",
       "    <tr>\n",
       "      <th>...</th>\n",
       "      <td>...</td>\n",
       "      <td>...</td>\n",
       "      <td>...</td>\n",
       "      <td>...</td>\n",
       "      <td>...</td>\n",
       "      <td>...</td>\n",
       "    </tr>\n",
       "    <tr>\n",
       "      <th>315857</th>\n",
       "      <td>0.0</td>\n",
       "      <td>0.0</td>\n",
       "      <td>0.0</td>\n",
       "      <td>0.0</td>\n",
       "      <td>0.0</td>\n",
       "      <td>1.0</td>\n",
       "    </tr>\n",
       "    <tr>\n",
       "      <th>315858</th>\n",
       "      <td>0.0</td>\n",
       "      <td>0.0</td>\n",
       "      <td>0.0</td>\n",
       "      <td>0.0</td>\n",
       "      <td>0.0</td>\n",
       "      <td>1.0</td>\n",
       "    </tr>\n",
       "    <tr>\n",
       "      <th>315859</th>\n",
       "      <td>0.0</td>\n",
       "      <td>0.0</td>\n",
       "      <td>0.0</td>\n",
       "      <td>0.0</td>\n",
       "      <td>0.0</td>\n",
       "      <td>1.0</td>\n",
       "    </tr>\n",
       "    <tr>\n",
       "      <th>315860</th>\n",
       "      <td>0.0</td>\n",
       "      <td>0.0</td>\n",
       "      <td>0.0</td>\n",
       "      <td>0.0</td>\n",
       "      <td>0.0</td>\n",
       "      <td>1.0</td>\n",
       "    </tr>\n",
       "    <tr>\n",
       "      <th>315861</th>\n",
       "      <td>0.0</td>\n",
       "      <td>0.0</td>\n",
       "      <td>0.0</td>\n",
       "      <td>0.0</td>\n",
       "      <td>0.0</td>\n",
       "      <td>1.0</td>\n",
       "    </tr>\n",
       "  </tbody>\n",
       "</table>\n",
       "<p>315862 rows × 6 columns</p>\n",
       "</div>"
      ],
      "text/plain": [
       "        Airline Indigo  Airline Air India  Airline Air Vistara  \\\n",
       "0                  0.0                0.0                  0.0   \n",
       "1                  0.0                0.0                  0.0   \n",
       "2                  0.0                0.0                  0.0   \n",
       "3                  0.0                0.0                  0.0   \n",
       "4                  0.0                0.0                  0.0   \n",
       "...                ...                ...                  ...   \n",
       "315857             0.0                0.0                  0.0   \n",
       "315858             0.0                0.0                  0.0   \n",
       "315859             0.0                0.0                  0.0   \n",
       "315860             0.0                0.0                  0.0   \n",
       "315861             0.0                0.0                  0.0   \n",
       "\n",
       "        Airline Go Air  Airline Spicejet  Airline AirAsia  \n",
       "0                  0.0               0.0              1.0  \n",
       "1                  0.0               0.0              1.0  \n",
       "2                  0.0               0.0              1.0  \n",
       "3                  0.0               0.0              1.0  \n",
       "4                  0.0               0.0              1.0  \n",
       "...                ...               ...              ...  \n",
       "315857             0.0               0.0              1.0  \n",
       "315858             0.0               0.0              1.0  \n",
       "315859             0.0               0.0              1.0  \n",
       "315860             0.0               0.0              1.0  \n",
       "315861             0.0               0.0              1.0  \n",
       "\n",
       "[315862 rows x 6 columns]"
      ]
     },
     "execution_count": 26,
     "metadata": {},
     "output_type": "execute_result"
    }
   ],
   "source": [
    "data"
   ]
  },
  {
   "cell_type": "code",
   "execution_count": 27,
   "metadata": {},
   "outputs": [
    {
     "name": "stdout",
     "output_type": "stream",
     "text": [
      "(315862, 3)\n"
     ]
    }
   ],
   "source": [
    "cabin_arr = le1.fit_transform(df[[\"Cabin\"]]).toarray()\n",
    "print(cabin_arr.shape)"
   ]
  },
  {
   "cell_type": "code",
   "execution_count": 28,
   "metadata": {},
   "outputs": [
    {
     "data": {
      "text/plain": [
       "E     185866\n",
       "B     113127\n",
       "PE     16869\n",
       "Name: Cabin, dtype: int64"
      ]
     },
     "execution_count": 28,
     "metadata": {},
     "output_type": "execute_result"
    }
   ],
   "source": [
    "df[\"Cabin\"].value_counts()"
   ]
  },
  {
   "cell_type": "code",
   "execution_count": 29,
   "metadata": {},
   "outputs": [],
   "source": [
    "cabin_e = cabin_arr[:, 0]\n",
    "cabin_b = cabin_arr[:, 1]\n",
    "cabin_pe = cabin_arr[:, 2]\n",
    "\n",
    "data[\"Cabin Economy\"] = cabin_e\n",
    "data[\"Cabin Business\"] = cabin_b\n",
    "data[\"Cabin Premium Economy\"] = cabin_pe\n"
   ]
  },
  {
   "cell_type": "code",
   "execution_count": 30,
   "metadata": {},
   "outputs": [
    {
     "name": "stdout",
     "output_type": "stream",
     "text": [
      "(315862, 2)\n"
     ]
    }
   ],
   "source": [
    "dept_month_arr = le1.fit_transform(df[[\"Dept_month\"]]).toarray()\n",
    "print(dept_month_arr.shape)"
   ]
  },
  {
   "cell_type": "code",
   "execution_count": 31,
   "metadata": {},
   "outputs": [
    {
     "data": {
      "text/plain": [
       "Apr    165575\n",
       "May    150287\n",
       "Name: Dept_month, dtype: int64"
      ]
     },
     "execution_count": 31,
     "metadata": {},
     "output_type": "execute_result"
    }
   ],
   "source": [
    "df[\"Dept_month\"].value_counts()"
   ]
  },
  {
   "cell_type": "code",
   "execution_count": 32,
   "metadata": {},
   "outputs": [],
   "source": [
    "dept_month_april = dept_month_arr[:, 0]\n",
    "dept_month_may = dept_month_arr[:, 1]\n",
    "\n",
    "data[\"Dept Month April\"] = dept_month_april\n",
    "data[\"Dept Month May\"] = dept_month_may"
   ]
  },
  {
   "cell_type": "code",
   "execution_count": 33,
   "metadata": {},
   "outputs": [
    {
     "name": "stdout",
     "output_type": "stream",
     "text": [
      "(315862, 4)\n"
     ]
    }
   ],
   "source": [
    "dept_flights_time_arr = le1.fit_transform(df[[\"Dept_flights_time\"]]).toarray()\n",
    "print(dept_flights_time_arr.shape)"
   ]
  },
  {
   "cell_type": "code",
   "execution_count": 34,
   "metadata": {},
   "outputs": [
    {
     "data": {
      "text/plain": [
       "Morning_flight      124439\n",
       "Afternoon_flight     91156\n",
       "Evening_flight       69212\n",
       "Night_flight         31055\n",
       "Name: Dept_flights_time, dtype: int64"
      ]
     },
     "execution_count": 34,
     "metadata": {},
     "output_type": "execute_result"
    }
   ],
   "source": [
    "df[\"Dept_flights_time\"].value_counts()"
   ]
  },
  {
   "cell_type": "code",
   "execution_count": 35,
   "metadata": {},
   "outputs": [],
   "source": [
    "Dept_Morning_Flight = dept_flights_time_arr[:, 0]\n",
    "Dept_Afternoon_Flight = dept_flights_time_arr[:, 1]\n",
    "Dept_Evening_Flight = dept_flights_time_arr[:, 2]\n",
    "Dept_Night_Flight = dept_flights_time_arr[:, 3]\n",
    "\n",
    "data[\"Dept_Morning_Flight\"] = Dept_Morning_Flight\n",
    "data[\"Dept_Afternoon_Flight\"] = Dept_Afternoon_Flight\n",
    "data[\"Dept_Evening_Flight\"] = Dept_Evening_Flight\n",
    "data[\"Dept_Night_Flight\"] = Dept_Night_Flight"
   ]
  },
  {
   "cell_type": "code",
   "execution_count": 36,
   "metadata": {},
   "outputs": [
    {
     "name": "stdout",
     "output_type": "stream",
     "text": [
      "(315862, 8)\n"
     ]
    }
   ],
   "source": [
    "connecting_flight_Airline_arr = le1.fit_transform(df[[\"connecting_flight_Airline\"]]).toarray()\n",
    "print(connecting_flight_Airline_arr.shape)"
   ]
  },
  {
   "cell_type": "code",
   "execution_count": 37,
   "metadata": {},
   "outputs": [
    {
     "data": {
      "text/plain": [
       "No connecting airline    288090\n",
       " IndiGo                   11062\n",
       " Air India                 5696\n",
       " Vistara                   3626\n",
       " Go Air                    3543\n",
       " Spicejet                  1973\n",
       " AirAsia                   1866\n",
       " Air India Express            6\n",
       "Name: connecting_flight_Airline, dtype: int64"
      ]
     },
     "execution_count": 37,
     "metadata": {},
     "output_type": "execute_result"
    }
   ],
   "source": [
    "df[\"connecting_flight_Airline\"].value_counts()"
   ]
  },
  {
   "cell_type": "code",
   "execution_count": 38,
   "metadata": {},
   "outputs": [],
   "source": [
    "No_connecting_airline = connecting_flight_Airline_arr[:, 0]\n",
    "Indigo = connecting_flight_Airline_arr[:, 1]\n",
    "Air_India = connecting_flight_Airline_arr[:, 2]\n",
    "Vistara = connecting_flight_Airline_arr[:, 3]\n",
    "Go_Air = connecting_flight_Airline_arr[:, 4]\n",
    "Spicejet = connecting_flight_Airline_arr[:, 5]\n",
    "AirAsia = connecting_flight_Airline_arr[:, 6]\n",
    "Air_India_Express = connecting_flight_Airline_arr[:, 7]\n",
    "\n",
    "data[\"No Connecting airline\"] = No_connecting_airline\n",
    "data[\"Connecting Indigo\"] = Indigo\n",
    "data[\"Connecting Air India\"] = Air_India\n",
    "data[\"Connecting Vistara\"] = Vistara\n",
    "data[\"Connecting Go Air\"] = Go_Air\n",
    "data[\"Connecting Spicejet\"] = Spicejet\n",
    "data[\"Connecting AirAsia\"] = AirAsia\n",
    "data[\"Air India Express\"] = Air_India_Express"
   ]
  },
  {
   "cell_type": "code",
   "execution_count": 39,
   "metadata": {},
   "outputs": [
    {
     "data": {
      "text/html": [
       "<div>\n",
       "<style scoped>\n",
       "    .dataframe tbody tr th:only-of-type {\n",
       "        vertical-align: middle;\n",
       "    }\n",
       "\n",
       "    .dataframe tbody tr th {\n",
       "        vertical-align: top;\n",
       "    }\n",
       "\n",
       "    .dataframe thead th {\n",
       "        text-align: right;\n",
       "    }\n",
       "</style>\n",
       "<table border=\"1\" class=\"dataframe\">\n",
       "  <thead>\n",
       "    <tr style=\"text-align: right;\">\n",
       "      <th></th>\n",
       "      <th>Airline Indigo</th>\n",
       "      <th>Airline Air India</th>\n",
       "      <th>Airline Air Vistara</th>\n",
       "      <th>Airline Go Air</th>\n",
       "      <th>Airline Spicejet</th>\n",
       "      <th>Airline AirAsia</th>\n",
       "      <th>Cabin Economy</th>\n",
       "      <th>Cabin Business</th>\n",
       "      <th>Cabin Premium Economy</th>\n",
       "      <th>Dept Month April</th>\n",
       "      <th>...</th>\n",
       "      <th>Dept_Evening_Flight</th>\n",
       "      <th>Dept_Night_Flight</th>\n",
       "      <th>No Connecting airline</th>\n",
       "      <th>Connecting Indigo</th>\n",
       "      <th>Connecting Air India</th>\n",
       "      <th>Connecting Vistara</th>\n",
       "      <th>Connecting Go Air</th>\n",
       "      <th>Connecting Spicejet</th>\n",
       "      <th>Connecting AirAsia</th>\n",
       "      <th>Air India Express</th>\n",
       "    </tr>\n",
       "  </thead>\n",
       "  <tbody>\n",
       "    <tr>\n",
       "      <th>0</th>\n",
       "      <td>0.0</td>\n",
       "      <td>0.0</td>\n",
       "      <td>0.0</td>\n",
       "      <td>0.0</td>\n",
       "      <td>0.0</td>\n",
       "      <td>1.0</td>\n",
       "      <td>0.0</td>\n",
       "      <td>0.0</td>\n",
       "      <td>1.0</td>\n",
       "      <td>1.0</td>\n",
       "      <td>...</td>\n",
       "      <td>1.0</td>\n",
       "      <td>0.0</td>\n",
       "      <td>0.0</td>\n",
       "      <td>0.0</td>\n",
       "      <td>0.0</td>\n",
       "      <td>0.0</td>\n",
       "      <td>0.0</td>\n",
       "      <td>0.0</td>\n",
       "      <td>0.0</td>\n",
       "      <td>1.0</td>\n",
       "    </tr>\n",
       "    <tr>\n",
       "      <th>1</th>\n",
       "      <td>0.0</td>\n",
       "      <td>0.0</td>\n",
       "      <td>0.0</td>\n",
       "      <td>0.0</td>\n",
       "      <td>0.0</td>\n",
       "      <td>1.0</td>\n",
       "      <td>0.0</td>\n",
       "      <td>0.0</td>\n",
       "      <td>1.0</td>\n",
       "      <td>1.0</td>\n",
       "      <td>...</td>\n",
       "      <td>0.0</td>\n",
       "      <td>0.0</td>\n",
       "      <td>0.0</td>\n",
       "      <td>0.0</td>\n",
       "      <td>0.0</td>\n",
       "      <td>0.0</td>\n",
       "      <td>0.0</td>\n",
       "      <td>0.0</td>\n",
       "      <td>0.0</td>\n",
       "      <td>1.0</td>\n",
       "    </tr>\n",
       "    <tr>\n",
       "      <th>2</th>\n",
       "      <td>0.0</td>\n",
       "      <td>0.0</td>\n",
       "      <td>0.0</td>\n",
       "      <td>0.0</td>\n",
       "      <td>0.0</td>\n",
       "      <td>1.0</td>\n",
       "      <td>0.0</td>\n",
       "      <td>0.0</td>\n",
       "      <td>1.0</td>\n",
       "      <td>1.0</td>\n",
       "      <td>...</td>\n",
       "      <td>0.0</td>\n",
       "      <td>0.0</td>\n",
       "      <td>0.0</td>\n",
       "      <td>0.0</td>\n",
       "      <td>0.0</td>\n",
       "      <td>0.0</td>\n",
       "      <td>0.0</td>\n",
       "      <td>0.0</td>\n",
       "      <td>0.0</td>\n",
       "      <td>1.0</td>\n",
       "    </tr>\n",
       "    <tr>\n",
       "      <th>3</th>\n",
       "      <td>0.0</td>\n",
       "      <td>0.0</td>\n",
       "      <td>0.0</td>\n",
       "      <td>0.0</td>\n",
       "      <td>0.0</td>\n",
       "      <td>1.0</td>\n",
       "      <td>0.0</td>\n",
       "      <td>0.0</td>\n",
       "      <td>1.0</td>\n",
       "      <td>1.0</td>\n",
       "      <td>...</td>\n",
       "      <td>0.0</td>\n",
       "      <td>0.0</td>\n",
       "      <td>0.0</td>\n",
       "      <td>0.0</td>\n",
       "      <td>0.0</td>\n",
       "      <td>0.0</td>\n",
       "      <td>0.0</td>\n",
       "      <td>0.0</td>\n",
       "      <td>0.0</td>\n",
       "      <td>1.0</td>\n",
       "    </tr>\n",
       "    <tr>\n",
       "      <th>4</th>\n",
       "      <td>0.0</td>\n",
       "      <td>0.0</td>\n",
       "      <td>0.0</td>\n",
       "      <td>0.0</td>\n",
       "      <td>0.0</td>\n",
       "      <td>1.0</td>\n",
       "      <td>0.0</td>\n",
       "      <td>0.0</td>\n",
       "      <td>1.0</td>\n",
       "      <td>1.0</td>\n",
       "      <td>...</td>\n",
       "      <td>0.0</td>\n",
       "      <td>0.0</td>\n",
       "      <td>0.0</td>\n",
       "      <td>0.0</td>\n",
       "      <td>0.0</td>\n",
       "      <td>0.0</td>\n",
       "      <td>0.0</td>\n",
       "      <td>0.0</td>\n",
       "      <td>0.0</td>\n",
       "      <td>1.0</td>\n",
       "    </tr>\n",
       "    <tr>\n",
       "      <th>...</th>\n",
       "      <td>...</td>\n",
       "      <td>...</td>\n",
       "      <td>...</td>\n",
       "      <td>...</td>\n",
       "      <td>...</td>\n",
       "      <td>...</td>\n",
       "      <td>...</td>\n",
       "      <td>...</td>\n",
       "      <td>...</td>\n",
       "      <td>...</td>\n",
       "      <td>...</td>\n",
       "      <td>...</td>\n",
       "      <td>...</td>\n",
       "      <td>...</td>\n",
       "      <td>...</td>\n",
       "      <td>...</td>\n",
       "      <td>...</td>\n",
       "      <td>...</td>\n",
       "      <td>...</td>\n",
       "      <td>...</td>\n",
       "      <td>...</td>\n",
       "    </tr>\n",
       "    <tr>\n",
       "      <th>315857</th>\n",
       "      <td>0.0</td>\n",
       "      <td>0.0</td>\n",
       "      <td>0.0</td>\n",
       "      <td>0.0</td>\n",
       "      <td>0.0</td>\n",
       "      <td>1.0</td>\n",
       "      <td>0.0</td>\n",
       "      <td>0.0</td>\n",
       "      <td>1.0</td>\n",
       "      <td>0.0</td>\n",
       "      <td>...</td>\n",
       "      <td>1.0</td>\n",
       "      <td>0.0</td>\n",
       "      <td>0.0</td>\n",
       "      <td>0.0</td>\n",
       "      <td>0.0</td>\n",
       "      <td>0.0</td>\n",
       "      <td>0.0</td>\n",
       "      <td>0.0</td>\n",
       "      <td>0.0</td>\n",
       "      <td>1.0</td>\n",
       "    </tr>\n",
       "    <tr>\n",
       "      <th>315858</th>\n",
       "      <td>0.0</td>\n",
       "      <td>0.0</td>\n",
       "      <td>0.0</td>\n",
       "      <td>0.0</td>\n",
       "      <td>0.0</td>\n",
       "      <td>1.0</td>\n",
       "      <td>0.0</td>\n",
       "      <td>0.0</td>\n",
       "      <td>1.0</td>\n",
       "      <td>0.0</td>\n",
       "      <td>...</td>\n",
       "      <td>1.0</td>\n",
       "      <td>0.0</td>\n",
       "      <td>0.0</td>\n",
       "      <td>0.0</td>\n",
       "      <td>0.0</td>\n",
       "      <td>0.0</td>\n",
       "      <td>0.0</td>\n",
       "      <td>0.0</td>\n",
       "      <td>0.0</td>\n",
       "      <td>1.0</td>\n",
       "    </tr>\n",
       "    <tr>\n",
       "      <th>315859</th>\n",
       "      <td>0.0</td>\n",
       "      <td>0.0</td>\n",
       "      <td>0.0</td>\n",
       "      <td>0.0</td>\n",
       "      <td>0.0</td>\n",
       "      <td>1.0</td>\n",
       "      <td>0.0</td>\n",
       "      <td>0.0</td>\n",
       "      <td>1.0</td>\n",
       "      <td>0.0</td>\n",
       "      <td>...</td>\n",
       "      <td>0.0</td>\n",
       "      <td>0.0</td>\n",
       "      <td>0.0</td>\n",
       "      <td>0.0</td>\n",
       "      <td>0.0</td>\n",
       "      <td>0.0</td>\n",
       "      <td>0.0</td>\n",
       "      <td>0.0</td>\n",
       "      <td>0.0</td>\n",
       "      <td>1.0</td>\n",
       "    </tr>\n",
       "    <tr>\n",
       "      <th>315860</th>\n",
       "      <td>0.0</td>\n",
       "      <td>0.0</td>\n",
       "      <td>0.0</td>\n",
       "      <td>0.0</td>\n",
       "      <td>0.0</td>\n",
       "      <td>1.0</td>\n",
       "      <td>0.0</td>\n",
       "      <td>0.0</td>\n",
       "      <td>1.0</td>\n",
       "      <td>0.0</td>\n",
       "      <td>...</td>\n",
       "      <td>0.0</td>\n",
       "      <td>0.0</td>\n",
       "      <td>0.0</td>\n",
       "      <td>0.0</td>\n",
       "      <td>0.0</td>\n",
       "      <td>0.0</td>\n",
       "      <td>0.0</td>\n",
       "      <td>0.0</td>\n",
       "      <td>0.0</td>\n",
       "      <td>1.0</td>\n",
       "    </tr>\n",
       "    <tr>\n",
       "      <th>315861</th>\n",
       "      <td>0.0</td>\n",
       "      <td>0.0</td>\n",
       "      <td>0.0</td>\n",
       "      <td>0.0</td>\n",
       "      <td>0.0</td>\n",
       "      <td>1.0</td>\n",
       "      <td>0.0</td>\n",
       "      <td>0.0</td>\n",
       "      <td>1.0</td>\n",
       "      <td>0.0</td>\n",
       "      <td>...</td>\n",
       "      <td>1.0</td>\n",
       "      <td>0.0</td>\n",
       "      <td>0.0</td>\n",
       "      <td>0.0</td>\n",
       "      <td>0.0</td>\n",
       "      <td>0.0</td>\n",
       "      <td>0.0</td>\n",
       "      <td>0.0</td>\n",
       "      <td>0.0</td>\n",
       "      <td>1.0</td>\n",
       "    </tr>\n",
       "  </tbody>\n",
       "</table>\n",
       "<p>315862 rows × 23 columns</p>\n",
       "</div>"
      ],
      "text/plain": [
       "        Airline Indigo  Airline Air India  Airline Air Vistara  \\\n",
       "0                  0.0                0.0                  0.0   \n",
       "1                  0.0                0.0                  0.0   \n",
       "2                  0.0                0.0                  0.0   \n",
       "3                  0.0                0.0                  0.0   \n",
       "4                  0.0                0.0                  0.0   \n",
       "...                ...                ...                  ...   \n",
       "315857             0.0                0.0                  0.0   \n",
       "315858             0.0                0.0                  0.0   \n",
       "315859             0.0                0.0                  0.0   \n",
       "315860             0.0                0.0                  0.0   \n",
       "315861             0.0                0.0                  0.0   \n",
       "\n",
       "        Airline Go Air  Airline Spicejet  Airline AirAsia  Cabin Economy  \\\n",
       "0                  0.0               0.0              1.0            0.0   \n",
       "1                  0.0               0.0              1.0            0.0   \n",
       "2                  0.0               0.0              1.0            0.0   \n",
       "3                  0.0               0.0              1.0            0.0   \n",
       "4                  0.0               0.0              1.0            0.0   \n",
       "...                ...               ...              ...            ...   \n",
       "315857             0.0               0.0              1.0            0.0   \n",
       "315858             0.0               0.0              1.0            0.0   \n",
       "315859             0.0               0.0              1.0            0.0   \n",
       "315860             0.0               0.0              1.0            0.0   \n",
       "315861             0.0               0.0              1.0            0.0   \n",
       "\n",
       "        Cabin Business  Cabin Premium Economy  Dept Month April  ...  \\\n",
       "0                  0.0                    1.0               1.0  ...   \n",
       "1                  0.0                    1.0               1.0  ...   \n",
       "2                  0.0                    1.0               1.0  ...   \n",
       "3                  0.0                    1.0               1.0  ...   \n",
       "4                  0.0                    1.0               1.0  ...   \n",
       "...                ...                    ...               ...  ...   \n",
       "315857             0.0                    1.0               0.0  ...   \n",
       "315858             0.0                    1.0               0.0  ...   \n",
       "315859             0.0                    1.0               0.0  ...   \n",
       "315860             0.0                    1.0               0.0  ...   \n",
       "315861             0.0                    1.0               0.0  ...   \n",
       "\n",
       "        Dept_Evening_Flight  Dept_Night_Flight  No Connecting airline  \\\n",
       "0                       1.0                0.0                    0.0   \n",
       "1                       0.0                0.0                    0.0   \n",
       "2                       0.0                0.0                    0.0   \n",
       "3                       0.0                0.0                    0.0   \n",
       "4                       0.0                0.0                    0.0   \n",
       "...                     ...                ...                    ...   \n",
       "315857                  1.0                0.0                    0.0   \n",
       "315858                  1.0                0.0                    0.0   \n",
       "315859                  0.0                0.0                    0.0   \n",
       "315860                  0.0                0.0                    0.0   \n",
       "315861                  1.0                0.0                    0.0   \n",
       "\n",
       "        Connecting Indigo  Connecting Air India  Connecting Vistara  \\\n",
       "0                     0.0                   0.0                 0.0   \n",
       "1                     0.0                   0.0                 0.0   \n",
       "2                     0.0                   0.0                 0.0   \n",
       "3                     0.0                   0.0                 0.0   \n",
       "4                     0.0                   0.0                 0.0   \n",
       "...                   ...                   ...                 ...   \n",
       "315857                0.0                   0.0                 0.0   \n",
       "315858                0.0                   0.0                 0.0   \n",
       "315859                0.0                   0.0                 0.0   \n",
       "315860                0.0                   0.0                 0.0   \n",
       "315861                0.0                   0.0                 0.0   \n",
       "\n",
       "        Connecting Go Air  Connecting Spicejet  Connecting AirAsia  \\\n",
       "0                     0.0                  0.0                 0.0   \n",
       "1                     0.0                  0.0                 0.0   \n",
       "2                     0.0                  0.0                 0.0   \n",
       "3                     0.0                  0.0                 0.0   \n",
       "4                     0.0                  0.0                 0.0   \n",
       "...                   ...                  ...                 ...   \n",
       "315857                0.0                  0.0                 0.0   \n",
       "315858                0.0                  0.0                 0.0   \n",
       "315859                0.0                  0.0                 0.0   \n",
       "315860                0.0                  0.0                 0.0   \n",
       "315861                0.0                  0.0                 0.0   \n",
       "\n",
       "        Air India Express  \n",
       "0                     1.0  \n",
       "1                     1.0  \n",
       "2                     1.0  \n",
       "3                     1.0  \n",
       "4                     1.0  \n",
       "...                   ...  \n",
       "315857                1.0  \n",
       "315858                1.0  \n",
       "315859                1.0  \n",
       "315860                1.0  \n",
       "315861                1.0  \n",
       "\n",
       "[315862 rows x 23 columns]"
      ]
     },
     "execution_count": 39,
     "metadata": {},
     "output_type": "execute_result"
    }
   ],
   "source": [
    "data"
   ]
  },
  {
   "cell_type": "markdown",
   "metadata": {},
   "source": [
    "#### Appending the \"Data Dataframe\" to main DataFrame."
   ]
  },
  {
   "cell_type": "code",
   "execution_count": 40,
   "metadata": {},
   "outputs": [
    {
     "name": "stdout",
     "output_type": "stream",
     "text": [
      "(315739, 36)\n"
     ]
    }
   ],
   "source": [
    "df1 = pd.concat([df, data], axis = 1, join = \"inner\")\n",
    "print(df1.shape)"
   ]
  },
  {
   "cell_type": "code",
   "execution_count": 41,
   "metadata": {},
   "outputs": [
    {
     "data": {
      "text/html": [
       "<div>\n",
       "<style scoped>\n",
       "    .dataframe tbody tr th:only-of-type {\n",
       "        vertical-align: middle;\n",
       "    }\n",
       "\n",
       "    .dataframe tbody tr th {\n",
       "        vertical-align: top;\n",
       "    }\n",
       "\n",
       "    .dataframe thead th {\n",
       "        text-align: right;\n",
       "    }\n",
       "</style>\n",
       "<table border=\"1\" class=\"dataframe\">\n",
       "  <thead>\n",
       "    <tr style=\"text-align: right;\">\n",
       "      <th></th>\n",
       "      <th>Price</th>\n",
       "      <th>Optimal_hr</th>\n",
       "      <th>Airline</th>\n",
       "      <th>Cabin</th>\n",
       "      <th>Dept_date</th>\n",
       "      <th>Dept_month</th>\n",
       "      <th>stops</th>\n",
       "      <th>duration</th>\n",
       "      <th>weekday</th>\n",
       "      <th>dept_hours</th>\n",
       "      <th>...</th>\n",
       "      <th>Dept_Evening_Flight</th>\n",
       "      <th>Dept_Night_Flight</th>\n",
       "      <th>No Connecting airline</th>\n",
       "      <th>Connecting Indigo</th>\n",
       "      <th>Connecting Air India</th>\n",
       "      <th>Connecting Vistara</th>\n",
       "      <th>Connecting Go Air</th>\n",
       "      <th>Connecting Spicejet</th>\n",
       "      <th>Connecting AirAsia</th>\n",
       "      <th>Air India Express</th>\n",
       "    </tr>\n",
       "  </thead>\n",
       "  <tbody>\n",
       "    <tr>\n",
       "      <th>0</th>\n",
       "      <td>6159</td>\n",
       "      <td>5</td>\n",
       "      <td>Vistara</td>\n",
       "      <td>PE</td>\n",
       "      <td>20</td>\n",
       "      <td>Apr</td>\n",
       "      <td>0</td>\n",
       "      <td>130.0</td>\n",
       "      <td>1</td>\n",
       "      <td>9</td>\n",
       "      <td>...</td>\n",
       "      <td>1.0</td>\n",
       "      <td>0.0</td>\n",
       "      <td>0.0</td>\n",
       "      <td>0.0</td>\n",
       "      <td>0.0</td>\n",
       "      <td>0.0</td>\n",
       "      <td>0.0</td>\n",
       "      <td>0.0</td>\n",
       "      <td>0.0</td>\n",
       "      <td>1.0</td>\n",
       "    </tr>\n",
       "    <tr>\n",
       "      <th>1</th>\n",
       "      <td>6159</td>\n",
       "      <td>11</td>\n",
       "      <td>Vistara</td>\n",
       "      <td>PE</td>\n",
       "      <td>20</td>\n",
       "      <td>Apr</td>\n",
       "      <td>0</td>\n",
       "      <td>130.0</td>\n",
       "      <td>1</td>\n",
       "      <td>15</td>\n",
       "      <td>...</td>\n",
       "      <td>0.0</td>\n",
       "      <td>0.0</td>\n",
       "      <td>0.0</td>\n",
       "      <td>0.0</td>\n",
       "      <td>0.0</td>\n",
       "      <td>0.0</td>\n",
       "      <td>0.0</td>\n",
       "      <td>0.0</td>\n",
       "      <td>0.0</td>\n",
       "      <td>1.0</td>\n",
       "    </tr>\n",
       "    <tr>\n",
       "      <th>2</th>\n",
       "      <td>6159</td>\n",
       "      <td>12</td>\n",
       "      <td>Vistara</td>\n",
       "      <td>PE</td>\n",
       "      <td>20</td>\n",
       "      <td>Apr</td>\n",
       "      <td>0</td>\n",
       "      <td>130.0</td>\n",
       "      <td>1</td>\n",
       "      <td>16</td>\n",
       "      <td>...</td>\n",
       "      <td>0.0</td>\n",
       "      <td>0.0</td>\n",
       "      <td>0.0</td>\n",
       "      <td>0.0</td>\n",
       "      <td>0.0</td>\n",
       "      <td>0.0</td>\n",
       "      <td>0.0</td>\n",
       "      <td>0.0</td>\n",
       "      <td>0.0</td>\n",
       "      <td>1.0</td>\n",
       "    </tr>\n",
       "    <tr>\n",
       "      <th>3</th>\n",
       "      <td>6159</td>\n",
       "      <td>8</td>\n",
       "      <td>Vistara</td>\n",
       "      <td>PE</td>\n",
       "      <td>20</td>\n",
       "      <td>Apr</td>\n",
       "      <td>0</td>\n",
       "      <td>135.0</td>\n",
       "      <td>1</td>\n",
       "      <td>12</td>\n",
       "      <td>...</td>\n",
       "      <td>0.0</td>\n",
       "      <td>0.0</td>\n",
       "      <td>0.0</td>\n",
       "      <td>0.0</td>\n",
       "      <td>0.0</td>\n",
       "      <td>0.0</td>\n",
       "      <td>0.0</td>\n",
       "      <td>0.0</td>\n",
       "      <td>0.0</td>\n",
       "      <td>1.0</td>\n",
       "    </tr>\n",
       "    <tr>\n",
       "      <th>4</th>\n",
       "      <td>6159</td>\n",
       "      <td>13</td>\n",
       "      <td>Vistara</td>\n",
       "      <td>PE</td>\n",
       "      <td>20</td>\n",
       "      <td>Apr</td>\n",
       "      <td>0</td>\n",
       "      <td>140.0</td>\n",
       "      <td>1</td>\n",
       "      <td>17</td>\n",
       "      <td>...</td>\n",
       "      <td>0.0</td>\n",
       "      <td>0.0</td>\n",
       "      <td>0.0</td>\n",
       "      <td>0.0</td>\n",
       "      <td>0.0</td>\n",
       "      <td>0.0</td>\n",
       "      <td>0.0</td>\n",
       "      <td>0.0</td>\n",
       "      <td>0.0</td>\n",
       "      <td>1.0</td>\n",
       "    </tr>\n",
       "  </tbody>\n",
       "</table>\n",
       "<p>5 rows × 36 columns</p>\n",
       "</div>"
      ],
      "text/plain": [
       "   Price  Optimal_hr  Airline Cabin  Dept_date Dept_month  stops  duration  \\\n",
       "0   6159           5  Vistara    PE         20        Apr      0     130.0   \n",
       "1   6159          11  Vistara    PE         20        Apr      0     130.0   \n",
       "2   6159          12  Vistara    PE         20        Apr      0     130.0   \n",
       "3   6159           8  Vistara    PE         20        Apr      0     135.0   \n",
       "4   6159          13  Vistara    PE         20        Apr      0     140.0   \n",
       "\n",
       "   weekday  dept_hours  ... Dept_Evening_Flight  Dept_Night_Flight  \\\n",
       "0        1           9  ...                 1.0                0.0   \n",
       "1        1          15  ...                 0.0                0.0   \n",
       "2        1          16  ...                 0.0                0.0   \n",
       "3        1          12  ...                 0.0                0.0   \n",
       "4        1          17  ...                 0.0                0.0   \n",
       "\n",
       "  No Connecting airline  Connecting Indigo  Connecting Air India  \\\n",
       "0                   0.0                0.0                   0.0   \n",
       "1                   0.0                0.0                   0.0   \n",
       "2                   0.0                0.0                   0.0   \n",
       "3                   0.0                0.0                   0.0   \n",
       "4                   0.0                0.0                   0.0   \n",
       "\n",
       "   Connecting Vistara  Connecting Go Air  Connecting Spicejet  \\\n",
       "0                 0.0                0.0                  0.0   \n",
       "1                 0.0                0.0                  0.0   \n",
       "2                 0.0                0.0                  0.0   \n",
       "3                 0.0                0.0                  0.0   \n",
       "4                 0.0                0.0                  0.0   \n",
       "\n",
       "   Connecting AirAsia  Air India Express  \n",
       "0                 0.0                1.0  \n",
       "1                 0.0                1.0  \n",
       "2                 0.0                1.0  \n",
       "3                 0.0                1.0  \n",
       "4                 0.0                1.0  \n",
       "\n",
       "[5 rows x 36 columns]"
      ]
     },
     "execution_count": 41,
     "metadata": {},
     "output_type": "execute_result"
    }
   ],
   "source": [
    "df1.head()"
   ]
  },
  {
   "cell_type": "code",
   "execution_count": 42,
   "metadata": {},
   "outputs": [],
   "source": [
    "df1.drop(columns = [\"Airline\", \"Cabin\", \"Dept_month\", \"Dept_flights_time\", \"connecting_flight_Airline\"], axis = 1, inplace = True)"
   ]
  },
  {
   "cell_type": "code",
   "execution_count": 43,
   "metadata": {},
   "outputs": [
    {
     "data": {
      "text/plain": [
       "(315739, 31)"
      ]
     },
     "execution_count": 43,
     "metadata": {},
     "output_type": "execute_result"
    }
   ],
   "source": [
    "df1.shape"
   ]
  },
  {
   "cell_type": "code",
   "execution_count": 44,
   "metadata": {},
   "outputs": [
    {
     "data": {
      "text/plain": [
       "Price                    0\n",
       "Optimal_hr               0\n",
       "Dept_date                0\n",
       "stops                    0\n",
       "duration                 0\n",
       "weekday                  0\n",
       "dept_hours               0\n",
       "No_of_Airlines_used      0\n",
       "Airline Indigo           0\n",
       "Airline Air India        0\n",
       "Airline Air Vistara      0\n",
       "Airline Go Air           0\n",
       "Airline Spicejet         0\n",
       "Airline AirAsia          0\n",
       "Cabin Economy            0\n",
       "Cabin Business           0\n",
       "Cabin Premium Economy    0\n",
       "Dept Month April         0\n",
       "Dept Month May           0\n",
       "Dept_Morning_Flight      0\n",
       "Dept_Afternoon_Flight    0\n",
       "Dept_Evening_Flight      0\n",
       "Dept_Night_Flight        0\n",
       "No Connecting airline    0\n",
       "Connecting Indigo        0\n",
       "Connecting Air India     0\n",
       "Connecting Vistara       0\n",
       "Connecting Go Air        0\n",
       "Connecting Spicejet      0\n",
       "Connecting AirAsia       0\n",
       "Air India Express        0\n",
       "dtype: int64"
      ]
     },
     "execution_count": 44,
     "metadata": {},
     "output_type": "execute_result"
    }
   ],
   "source": [
    "df1.isnull().sum()"
   ]
  },
  {
   "cell_type": "code",
   "execution_count": 45,
   "metadata": {},
   "outputs": [
    {
     "data": {
      "text/plain": [
       "0         0\n",
       "1         0\n",
       "2         0\n",
       "3         0\n",
       "4         0\n",
       "         ..\n",
       "315857    1\n",
       "315858    1\n",
       "315859    1\n",
       "315860    1\n",
       "315861    1\n",
       "Name: stops, Length: 315739, dtype: int64"
      ]
     },
     "execution_count": 45,
     "metadata": {},
     "output_type": "execute_result"
    }
   ],
   "source": [
    "df1[\"stops\"]"
   ]
  },
  {
   "cell_type": "code",
   "execution_count": 46,
   "metadata": {},
   "outputs": [
    {
     "data": {
      "text/plain": [
       "Price                    0\n",
       "Optimal_hr               0\n",
       "Dept_date                0\n",
       "stops                    0\n",
       "duration                 0\n",
       "weekday                  0\n",
       "dept_hours               0\n",
       "No_of_Airlines_used      0\n",
       "Airline Indigo           0\n",
       "Airline Air India        0\n",
       "Airline Air Vistara      0\n",
       "Airline Go Air           0\n",
       "Airline Spicejet         0\n",
       "Airline AirAsia          0\n",
       "Cabin Economy            0\n",
       "Cabin Business           0\n",
       "Cabin Premium Economy    0\n",
       "Dept Month April         0\n",
       "Dept Month May           0\n",
       "Dept_Morning_Flight      0\n",
       "Dept_Afternoon_Flight    0\n",
       "Dept_Evening_Flight      0\n",
       "Dept_Night_Flight        0\n",
       "No Connecting airline    0\n",
       "Connecting Indigo        0\n",
       "Connecting Air India     0\n",
       "Connecting Vistara       0\n",
       "Connecting Go Air        0\n",
       "Connecting Spicejet      0\n",
       "Connecting AirAsia       0\n",
       "Air India Express        0\n",
       "dtype: int64"
      ]
     },
     "execution_count": 46,
     "metadata": {},
     "output_type": "execute_result"
    }
   ],
   "source": [
    "df1.isnull().sum()"
   ]
  },
  {
   "cell_type": "code",
   "execution_count": 47,
   "metadata": {},
   "outputs": [
    {
     "data": {
      "text/plain": [
       "Index(['Price', 'Optimal_hr', 'Dept_date', 'stops', 'duration', 'weekday',\n",
       "       'dept_hours', 'No_of_Airlines_used', 'Airline Indigo',\n",
       "       'Airline Air India', 'Airline Air Vistara', 'Airline Go Air',\n",
       "       'Airline Spicejet', 'Airline AirAsia', 'Cabin Economy',\n",
       "       'Cabin Business', 'Cabin Premium Economy', 'Dept Month April',\n",
       "       'Dept Month May', 'Dept_Morning_Flight', 'Dept_Afternoon_Flight',\n",
       "       'Dept_Evening_Flight', 'Dept_Night_Flight', 'No Connecting airline',\n",
       "       'Connecting Indigo', 'Connecting Air India', 'Connecting Vistara',\n",
       "       'Connecting Go Air', 'Connecting Spicejet', 'Connecting AirAsia',\n",
       "       'Air India Express'],\n",
       "      dtype='object')"
      ]
     },
     "execution_count": 47,
     "metadata": {},
     "output_type": "execute_result"
    }
   ],
   "source": [
    "df1.columns"
   ]
  },
  {
   "cell_type": "code",
   "execution_count": 48,
   "metadata": {},
   "outputs": [],
   "source": [
    "df1.drop(columns = ['Airline Indigo', 'weekday',\n",
    "       'Airline Air India', 'Airline Air Vistara', 'Airline Go Air',\n",
    "       'Airline Spicejet', 'Airline AirAsia', 'Cabin Economy',\n",
    "       'Cabin Business', 'Cabin Premium Economy', 'Dept Month April',\n",
    "       'Dept Month May', 'Dept_Morning_Flight', 'Dept_Afternoon_Flight',\n",
    "       'Dept_Evening_Flight', 'Dept_Night_Flight', 'No Connecting airline',\n",
    "       'Connecting Indigo', 'Connecting Air India', 'Connecting Vistara',\n",
    "       'Connecting Go Air', 'Connecting Spicejet', 'Connecting AirAsia',\n",
    "       'Air India Express'], inplace = True)"
   ]
  },
  {
   "cell_type": "code",
   "execution_count": 49,
   "metadata": {},
   "outputs": [
    {
     "data": {
      "text/plain": [
       "Price                  0\n",
       "Optimal_hr             0\n",
       "Dept_date              0\n",
       "stops                  0\n",
       "duration               0\n",
       "dept_hours             0\n",
       "No_of_Airlines_used    0\n",
       "dtype: int64"
      ]
     },
     "execution_count": 49,
     "metadata": {},
     "output_type": "execute_result"
    }
   ],
   "source": [
    "df1.isnull().sum()"
   ]
  },
  {
   "cell_type": "code",
   "execution_count": 71,
   "metadata": {},
   "outputs": [],
   "source": [
    "scaler = MinMaxScaler()\n",
    "data_scaled = scaler.fit_transform(df1)"
   ]
  },
  {
   "cell_type": "code",
   "execution_count": 75,
   "metadata": {},
   "outputs": [],
   "source": [
    "X = data_scaled[:, 1:]\n",
    "y = data_scaled[:, 0]"
   ]
  },
  {
   "cell_type": "code",
   "execution_count": 76,
   "metadata": {},
   "outputs": [
    {
     "name": "stdout",
     "output_type": "stream",
     "text": [
      "(315739, 6)\n",
      "(315739,)\n"
     ]
    }
   ],
   "source": [
    "print(X.shape)\n",
    "print(y.shape)"
   ]
  },
  {
   "cell_type": "code",
   "execution_count": null,
   "metadata": {},
   "outputs": [],
   "source": [
    "X.query(\"Optimal_hr > 18\") #query runs on DataFrame."
   ]
  },
  {
   "cell_type": "code",
   "execution_count": 89,
   "metadata": {},
   "outputs": [
    {
     "name": "stdout",
     "output_type": "stream",
     "text": [
      "<tensorflow.python.keras.preprocessing.sequence.TimeseriesGenerator object at 0x000001FBAFB53E50>\n"
     ]
    }
   ],
   "source": [
    "t = TimeseriesGenerator(X, y, length = X[0].all(), batch_size = 128)\n",
    "print(t)"
   ]
  },
  {
   "cell_type": "code",
   "execution_count": 90,
   "metadata": {},
   "outputs": [],
   "source": [
    "X_train,  X_test, y_train, y_test = train_test_split(X, y, test_size = 0.20, random_state = 123, shuffle = False)"
   ]
  },
  {
   "cell_type": "code",
   "execution_count": 91,
   "metadata": {},
   "outputs": [
    {
     "name": "stdout",
     "output_type": "stream",
     "text": [
      "Training Shape: (252591, 6)\n",
      "Testing Shape: (63148, 6)\n",
      "Price Training Shape: (252591,)\n",
      "Price Testing Shape: (63148,)\n"
     ]
    }
   ],
   "source": [
    "print(f\"Training Shape: {X_train.shape}\")\n",
    "print(f\"Testing Shape: {X_test.shape}\")\n",
    "print(f\"Price Training Shape: {y_train.shape}\")\n",
    "print(f\"Price Testing Shape: {y_test.shape}\")"
   ]
  },
  {
   "cell_type": "code",
   "execution_count": 96,
   "metadata": {},
   "outputs": [],
   "source": [
    "win_length = 720\n",
    "batch_size = 32\n",
    "num_features = 6"
   ]
  },
  {
   "cell_type": "code",
   "execution_count": 97,
   "metadata": {},
   "outputs": [],
   "source": [
    "train_generator = TimeseriesGenerator(X_train, y_train, length = win_length, sampling_rate = 1, batch_size = batch_size)\n",
    "test_generator = TimeseriesGenerator(X_test, y_test, length = win_length, sampling_rate = 1, batch_size = batch_size)"
   ]
  },
  {
   "cell_type": "code",
   "execution_count": 98,
   "metadata": {},
   "outputs": [
    {
     "data": {
      "text/plain": [
       "(array([[[0.2173913 , 0.65517241, 0.        , 0.09059233, 0.39130435,\n",
       "          0.        ],\n",
       "         [0.47826087, 0.65517241, 0.        , 0.09059233, 0.65217391,\n",
       "          0.        ],\n",
       "         [0.52173913, 0.65517241, 0.        , 0.09059233, 0.69565217,\n",
       "          0.        ],\n",
       "         ...,\n",
       "         [0.39130435, 0.72413793, 0.        , 0.07665505, 0.56521739,\n",
       "          0.        ],\n",
       "         [0.2173913 , 0.72413793, 0.        , 0.09059233, 0.39130435,\n",
       "          0.        ],\n",
       "         [0.2173913 , 0.72413793, 0.16666667, 0.2543554 , 0.39130435,\n",
       "          0.        ]],\n",
       " \n",
       "        [[0.47826087, 0.65517241, 0.        , 0.09059233, 0.65217391,\n",
       "          0.        ],\n",
       "         [0.52173913, 0.65517241, 0.        , 0.09059233, 0.69565217,\n",
       "          0.        ],\n",
       "         [0.34782609, 0.65517241, 0.        , 0.09407666, 0.52173913,\n",
       "          0.        ],\n",
       "         ...,\n",
       "         [0.2173913 , 0.72413793, 0.        , 0.09059233, 0.39130435,\n",
       "          0.        ],\n",
       "         [0.2173913 , 0.72413793, 0.16666667, 0.2543554 , 0.39130435,\n",
       "          0.        ],\n",
       "         [0.39130435, 0.72413793, 0.        , 0.05923345, 0.56521739,\n",
       "          0.        ]],\n",
       " \n",
       "        [[0.52173913, 0.65517241, 0.        , 0.09059233, 0.69565217,\n",
       "          0.        ],\n",
       "         [0.34782609, 0.65517241, 0.        , 0.09407666, 0.52173913,\n",
       "          0.        ],\n",
       "         [0.56521739, 0.65517241, 0.        , 0.09756098, 0.73913043,\n",
       "          0.        ],\n",
       "         ...,\n",
       "         [0.2173913 , 0.72413793, 0.16666667, 0.2543554 , 0.39130435,\n",
       "          0.        ],\n",
       "         [0.39130435, 0.72413793, 0.        , 0.05923345, 0.56521739,\n",
       "          0.        ],\n",
       "         [0.56521739, 0.72413793, 0.16666667, 0.91289199, 0.73913043,\n",
       "          0.        ]],\n",
       " \n",
       "        ...,\n",
       " \n",
       "        [[0.60869565, 0.65517241, 0.        , 0.09059233, 0.7826087 ,\n",
       "          0.        ],\n",
       "         [0.04347826, 0.65517241, 0.        , 0.10801394, 0.2173913 ,\n",
       "          0.        ],\n",
       "         [0.2173913 , 0.65517241, 0.16666667, 0.20557491, 0.39130435,\n",
       "          0.        ],\n",
       "         ...,\n",
       "         [0.65217391, 0.72413793, 0.16666667, 0.56097561, 0.82608696,\n",
       "          0.        ],\n",
       "         [0.73913043, 0.72413793, 0.16666667, 0.43205575, 0.91304348,\n",
       "          0.        ],\n",
       "         [0.69565217, 0.72413793, 0.16666667, 0.48083624, 0.86956522,\n",
       "          0.        ]],\n",
       " \n",
       "        [[0.04347826, 0.65517241, 0.        , 0.10801394, 0.2173913 ,\n",
       "          0.        ],\n",
       "         [0.2173913 , 0.65517241, 0.16666667, 0.20557491, 0.39130435,\n",
       "          0.        ],\n",
       "         [0.04347826, 0.65517241, 0.        , 0.13240418, 0.2173913 ,\n",
       "          0.        ],\n",
       "         ...,\n",
       "         [0.73913043, 0.72413793, 0.16666667, 0.43205575, 0.91304348,\n",
       "          0.        ],\n",
       "         [0.69565217, 0.72413793, 0.16666667, 0.48083624, 0.86956522,\n",
       "          0.        ],\n",
       "         [0.52173913, 0.72413793, 0.16666667, 0.64808362, 0.69565217,\n",
       "          0.        ]],\n",
       " \n",
       "        [[0.2173913 , 0.65517241, 0.16666667, 0.20557491, 0.39130435,\n",
       "          0.        ],\n",
       "         [0.04347826, 0.65517241, 0.        , 0.13240418, 0.2173913 ,\n",
       "          0.        ],\n",
       "         [0.47826087, 0.65517241, 0.        , 0.13240418, 0.65217391,\n",
       "          0.        ],\n",
       "         ...,\n",
       "         [0.69565217, 0.72413793, 0.16666667, 0.48083624, 0.86956522,\n",
       "          0.        ],\n",
       "         [0.52173913, 0.72413793, 0.16666667, 0.64808362, 0.69565217,\n",
       "          0.        ],\n",
       "         [0.08695652, 0.72413793, 0.16666667, 0.21254355, 0.26086957,\n",
       "          0.        ]]]),\n",
       " array([0.08746515, 0.11202025, 0.11202025, 0.11202025, 0.03048705,\n",
       "        0.02584574, 0.02584574, 0.02199039, 0.02199039, 0.02199039,\n",
       "        0.02199039, 0.04894474, 0.03094208, 0.03094208, 0.02800506,\n",
       "        0.01982279, 0.01982279, 0.02279289, 0.01426314, 0.07007471,\n",
       "        0.07541098, 0.07541098, 0.07541098, 0.07541098, 0.02538243,\n",
       "        0.06991752, 0.06991752, 0.07267252, 0.07267252, 0.07267252,\n",
       "        0.06337335, 0.06377874]))"
      ]
     },
     "execution_count": 98,
     "metadata": {},
     "output_type": "execute_result"
    }
   ],
   "source": [
    "train_generator[0]"
   ]
  },
  {
   "cell_type": "code",
   "execution_count": 101,
   "metadata": {},
   "outputs": [],
   "source": [
    "model = tf.keras.Sequential()\n",
    "model.add(tf.keras.layers.LSTM(128, input_shape = (win_length, num_features), return_sequences = True))\n",
    "model.add(tf.keras.layers.LeakyReLU(alpha = 0.5))\n",
    "model.add(tf.keras.layers.LSTM(128, return_sequences = True))\n",
    "model.add(tf.keras.layers.LeakyReLU(alpha = 0.5))\n",
    "model.add(tf.keras.layers.Dropout(0.3))\n",
    "model.add(tf.keras.layers.LSTM(64, return_sequences = False))\n",
    "model.add(tf.keras.layers.Dropout(0.3))\n",
    "model.add(tf.keras.layers.Dense(1))"
   ]
  },
  {
   "cell_type": "code",
   "execution_count": 102,
   "metadata": {
    "collapsed": true
   },
   "outputs": [
    {
     "name": "stdout",
     "output_type": "stream",
     "text": [
      "Model: \"sequential_2\"\n",
      "_________________________________________________________________\n",
      "Layer (type)                 Output Shape              Param #   \n",
      "=================================================================\n",
      "lstm_4 (LSTM)                (None, 720, 128)          69120     \n",
      "_________________________________________________________________\n",
      "leaky_re_lu_2 (LeakyReLU)    (None, 720, 128)          0         \n",
      "_________________________________________________________________\n",
      "lstm_5 (LSTM)                (None, 720, 128)          131584    \n",
      "_________________________________________________________________\n",
      "leaky_re_lu_3 (LeakyReLU)    (None, 720, 128)          0         \n",
      "_________________________________________________________________\n",
      "dropout_2 (Dropout)          (None, 720, 128)          0         \n",
      "_________________________________________________________________\n",
      "lstm_6 (LSTM)                (None, 64)                49408     \n",
      "_________________________________________________________________\n",
      "dropout_3 (Dropout)          (None, 64)                0         \n",
      "_________________________________________________________________\n",
      "dense_1 (Dense)              (None, 1)                 65        \n",
      "=================================================================\n",
      "Total params: 250,177\n",
      "Trainable params: 250,177\n",
      "Non-trainable params: 0\n",
      "_________________________________________________________________\n"
     ]
    }
   ],
   "source": [
    "model.summary()"
   ]
  },
  {
   "cell_type": "code",
   "execution_count": null,
   "metadata": {},
   "outputs": [
    {
     "name": "stderr",
     "output_type": "stream",
     "text": [
      "`Model.fit_generator` is deprecated and will be removed in a future version. Please use `Model.fit`, which supports generators.\n"
     ]
    },
    {
     "name": "stdout",
     "output_type": "stream",
     "text": [
      "Epoch 1/50\n",
      "1216/7871 [===>..........................] - ETA: 4:12:52 - loss: 0.0084 - mean_absolute_error: 0.0603"
     ]
    }
   ],
   "source": [
    "early_stopping = tf.keras.callbacks.EarlyStopping(monitor = 'val_loss', patience = 2, mode = 'min')\n",
    "\n",
    "model.compile(loss = tf.losses.MeanSquaredError(), optimizer = tf.optimizers.Adam(), metrics = [tf.metrics.MeanAbsoluteError()])\n",
    "\n",
    "history = model.fit_generator(train_generator, epochs = 50, validation_data = test_generator, shuffle = False, callbacks = [early_stopping])"
   ]
  },
  {
   "cell_type": "code",
   "execution_count": null,
   "metadata": {},
   "outputs": [],
   "source": [
    "predictions = model.predict_generator(test_generator)"
   ]
  },
  {
   "cell_type": "code",
   "execution_count": null,
   "metadata": {},
   "outputs": [],
   "source": [
    "predictions.shape[0]"
   ]
  },
  {
   "cell_type": "code",
   "execution_count": 70,
   "metadata": {},
   "outputs": [
    {
     "data": {
      "text/plain": [
       "array([[0.2173913 , 0.65517241, 0.        , 0.09059233, 0.39130435,\n",
       "        0.        ],\n",
       "       [0.47826087, 0.65517241, 0.        , 0.09059233, 0.65217391,\n",
       "        0.        ],\n",
       "       [0.52173913, 0.65517241, 0.        , 0.09059233, 0.69565217,\n",
       "        0.        ],\n",
       "       ...,\n",
       "       [0.60869565, 0.4137931 , 0.16666667, 0.74216028, 0.7826087 ,\n",
       "        0.        ],\n",
       "       [0.47826087, 0.4137931 , 0.16666667, 0.18815331, 0.65217391,\n",
       "        0.        ],\n",
       "       [0.60869565, 0.4137931 , 0.16666667, 0.62369338, 0.7826087 ,\n",
       "        0.        ]])"
      ]
     },
     "execution_count": 70,
     "metadata": {},
     "output_type": "execute_result"
    }
   ],
   "source": [
    "data_scaled"
   ]
  },
  {
   "cell_type": "code",
   "execution_count": null,
   "metadata": {},
   "outputs": [],
   "source": [
    "xgb.feature_importances_\n"
   ]
  },
  {
   "cell_type": "markdown",
   "metadata": {},
   "source": [
    "###### From the above plot, we can clearly observe the \"features\" that plays an important role for our data are:\n",
    "1. Duration\n",
    "2. Optimal Hour\n",
    "3. Departure Date\n",
    "4. Stops\n",
    "5. Cabin Economy\n",
    "6. Departure Hours\n",
    "7. No. of Airlines Used"
   ]
  }
 ],
 "metadata": {
  "kernelspec": {
   "display_name": "Python 3",
   "language": "python",
   "name": "python3"
  },
  "language_info": {
   "codemirror_mode": {
    "name": "ipython",
    "version": 3
   },
   "file_extension": ".py",
   "mimetype": "text/x-python",
   "name": "python",
   "nbconvert_exporter": "python",
   "pygments_lexer": "ipython3",
   "version": "3.8.5"
  }
 },
 "nbformat": 4,
 "nbformat_minor": 5
}
